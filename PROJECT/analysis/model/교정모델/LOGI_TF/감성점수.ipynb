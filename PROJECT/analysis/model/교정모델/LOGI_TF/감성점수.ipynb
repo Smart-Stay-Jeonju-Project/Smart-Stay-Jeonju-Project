{
 "cells": [
  {
   "cell_type": "code",
   "execution_count": 1,
   "id": "69f8284e",
   "metadata": {},
   "outputs": [],
   "source": [
    "import pandas as pd"
   ]
  },
  {
   "cell_type": "code",
   "execution_count": 2,
   "id": "273d9b71",
   "metadata": {},
   "outputs": [],
   "source": [
    "df = pd.read_csv('../data/y_duple_filtered_up_0716.csv', encoding='utf-8-sig')"
   ]
  },
  {
   "cell_type": "code",
   "execution_count": 4,
   "id": "771d8c1e",
   "metadata": {},
   "outputs": [],
   "source": [
    "import pandas as pd\n",
    "from konlpy.tag import Okt\n",
    "\n",
    "# 1. 간단한 감성 단어 리스트 직접 정의 (임시용)\n",
    "positive_keywords = ['좋다', '깨끗', '편안', '친절', '만족', '훌륭', '예쁘', '쾌적', '최고', '넓', '추천', '청결', '훌륭', '서비스']\n",
    "negative_keywords = ['시끄럽', '지저분', '불친절', '좁', '비싸', '실망', '냄새', '불편', '최악', '더럽', '아쉽', '아쉬운']\n",
    "\n",
    "# 2. 형태소 분석기\n",
    "okt = Okt()\n",
    "\n",
    "# 3. 리뷰 → 감성 라벨링 함수\n",
    "def classify_sentiment(text):\n",
    "    tokens = okt.morphs(text)\n",
    "    pos = sum(1 for token in tokens if any(p in token for p in positive_keywords))\n",
    "    neg = sum(1 for token in tokens if any(n in token for n in negative_keywords))\n",
    "\n",
    "    if pos > neg:\n",
    "        return '긍정'\n",
    "    elif neg > pos:\n",
    "        return '부정'\n",
    "    elif pos == neg and pos > 0:\n",
    "        return '중립'\n",
    "    else:\n",
    "        return '중립'\n",
    "\n",
    "# 4. 데이터 불러오기\n",
    "df['clean_reviews'] = df['clean_reviews'].astype(str)\n",
    "\n",
    "# 5. 감성 라벨 생성\n",
    "df['emotion'] = df['clean_reviews'].apply(classify_sentiment)"
   ]
  },
  {
   "cell_type": "code",
   "execution_count": null,
   "id": "c8f8471f",
   "metadata": {},
   "outputs": [],
   "source": [
    "group = df.groupby('name')['감성점수']\n",
    "positives = group.apply(lambda x: (x == 1).sum())\n",
    "total = group.count()\n",
    "긍정률 = positives / total"
   ]
  },
  {
   "cell_type": "code",
   "execution_count": null,
   "id": "38b726dc",
   "metadata": {},
   "outputs": [],
   "source": [
    "# 등급 부여 함수 정의\n",
    "def get_emotion_grade(score):\n",
    "    if score > 0.6:\n",
    "        return \"매우 긍정적\"\n",
    "    elif score > 0.3:\n",
    "        return \"긍정적\"\n",
    "    elif score > 0:\n",
    "        return \"약간 긍정\"\n",
    "    elif score == 0:\n",
    "        return \"중립\"\n",
    "    elif score > -0.3:\n",
    "        return \"약간 부정\"\n",
    "    else:\n",
    "        return \"부정적\"\n",
    "\n",
    "# 평균 점수 기반 감성 등급 계산\n",
    "df['평균감성점수'] = df.groupby('숙소명')['감성점수'].transform('mean')\n",
    "df['감성등급'] = df['평균감성점수'].apply(get_emotion_grade)"
   ]
  },
  {
   "cell_type": "code",
   "execution_count": null,
   "id": "fd9efd7c",
   "metadata": {},
   "outputs": [],
   "source": [
    "columns = ['숙소명', '리뷰내용', '감성라벨', '감성점수', '평균감성점수', '감성등급']\n",
    "df[columns].head()"
   ]
  }
 ],
 "metadata": {
  "kernelspec": {
   "display_name": "azen",
   "language": "python",
   "name": "python3"
  },
  "language_info": {
   "codemirror_mode": {
    "name": "ipython",
    "version": 3
   },
   "file_extension": ".py",
   "mimetype": "text/x-python",
   "name": "python",
   "nbconvert_exporter": "python",
   "pygments_lexer": "ipython3",
   "version": "3.10.18"
  }
 },
 "nbformat": 4,
 "nbformat_minor": 5
}
