{
 "cells": [
  {
   "cell_type": "code",
   "execution_count": 21,
   "id": "8175ead5",
   "metadata": {},
   "outputs": [],
   "source": [
    "stopwords = list(set([\n",
    "    '이', '가', '은', '는', '을', '를', '의', '에', '에서', '에게', '께', '로', '으로', '하다', '있다',\n",
    "    '와', '과', '보다', '처럼', '만큼', '같이', '까지', '마저', '조차', '부터', \n",
    "    '이나', '나', '이며', '며', '등', '하다', '한다', '하고', '하니', '하면', \n",
    "    '되어', '되다', '되고', '되니', '입니다', '습니다', 'ㅂ니다', '어요', '아요', '다', '방이', '제대로',\n",
    "    '고', '면', '게', '지', '죠',\n",
    "    '그리고', '그러나', '하지만', '그런데', '그래서', '그러면', '그러므로', '따라서', \n",
    "    '또한', '또는', '및', '즉', '한편', '반면에', '근데',\n",
    "    '나', '저', '우리', '저희', '너', '너희', '당신', '그', '그녀', '그들', '누구', '그렇다',\n",
    "    '무엇', '어디', '언제', '어느', '이것', '그것', '저것', '여기', '거기', '저기', \n",
    "    '이쪽', '그쪽', '저쪽',\n",
    "    '하나', '둘', '셋', '넷', '다섯', '여섯', '일곱', '여덟', '아홉', '열',\n",
    "    '일', '이', '삼', '사', '오', '육', '칠', '팔', '구', '십', '백', '천', '만',\n",
    "    '첫째', '둘째', '셋째',\n",
    "    '바로', '때', '것', '수', '문제', '경우', '부분', '이다',\n",
    "    '내용', '결과', '자체', '가지', '있다',\n",
    "    '않았어요', '있었어요', '했어요', '했는데요', '있는데요', '합니다', '없다', '나다','생각하다',\n",
    "    '했다', '같다', '네요','아니다',\n",
    "    '좀', '너무', '정말', '많이', '조금',\n",
    "    '사장', '이용', '용하다', '물이', '매우',\n",
    "    '뿐', '대로', '만', '따름', '나름', '김에', '터',\n",
    "    '아', '아이고', '아이구', '아하', '어', '그래', '응', '네', '예', '아니', '않다', '안되다','안','그냥',\n",
    "    '가다', '오다', '주다', '말다', '나다', '받다', '알다', '모르다', '싶다', '생각하다', '들다'\n",
    "]))"
   ]
  },
  {
   "cell_type": "code",
   "execution_count": 22,
   "id": "357f17db",
   "metadata": {},
   "outputs": [],
   "source": [
    "import pandas as pd\n",
    "\n",
    "df = pd.read_csv('keyword_test.csv', encoding='utf-8-sig')\n",
    "\n",
    "# 키워드 불러오기 (이미 저장된 파일 사용)\n",
    "keyword_df = pd.read_csv(\"숙소_관련_키워드.csv\", encoding='utf-8-sig')\n",
    "keyword_df['keyword'] = keyword_df['keyword'].str.strip()"
   ]
  },
  {
   "cell_type": "code",
   "execution_count": 23,
   "id": "8a195c2a",
   "metadata": {},
   "outputs": [],
   "source": [
    "from konlpy.tag import Okt\n",
    "import pandas as pd\n",
    "from tqdm import tqdm\n",
    "\n",
    "# 형태소 분석기\n",
    "okt = Okt()\n"
   ]
  },
  {
   "cell_type": "code",
   "execution_count": 24,
   "id": "0c04a8f9",
   "metadata": {},
   "outputs": [],
   "source": [
    "# 사전 단어들도 형태소 분석 후 정규화 (옵션)\n",
    "def normalize_keywords(keywords):\n",
    "    normalized = set()\n",
    "    for kw in keywords:\n",
    "        tokens = okt.pos(kw, stem=True)\n",
    "        for word, pos in tokens:\n",
    "            if pos in ['Noun', 'Adjective', 'Verb']:\n",
    "                if word not in stopwords :\n",
    "                    normalized.add(word)\n",
    "    return normalized\n",
    "\n",
    "keyword_set = normalize_keywords(keyword_df['keyword'])"
   ]
  },
  {
   "cell_type": "code",
   "execution_count": null,
   "id": "66711b9e",
   "metadata": {},
   "outputs": [
    {
     "ename": "",
     "evalue": "",
     "output_type": "error",
     "traceback": [
      "\u001b[1;31mnotebook controller is DISPOSED. \n",
      "\u001b[1;31mView Jupyter <a href='command:jupyter.viewOutput'>log</a> for further details."
     ]
    }
   ],
   "source": [
    "keyword_set"
   ]
  },
  {
   "cell_type": "code",
   "execution_count": 25,
   "id": "9a2c97cd",
   "metadata": {},
   "outputs": [
    {
     "name": "stderr",
     "output_type": "stream",
     "text": [
      "숙소 키워드 추출 중: 100%|██████████| 171762/171762 [17:16<00:00, 165.67it/s]\n"
     ]
    }
   ],
   "source": [
    "\n",
    "# 숙소 키워드만 추출하는 함수\n",
    "def extract_keywords(text):\n",
    "    try:\n",
    "        tokens = okt.pos(str(text), stem=True)\n",
    "        return \" \".join([\n",
    "            word for word, pos in tokens\n",
    "            if pos in ['Noun', 'Adjective', 'Verb'] and word in keyword_set\n",
    "        ])\n",
    "    except:\n",
    "        return \"\"\n",
    "\n",
    "# 적용 (진행률 표시)\n",
    "tqdm.pandas(desc=\"숙소 키워드 추출 중\")\n",
    "df['keywords'] = df['clean_reviews'].progress_apply(extract_keywords)"
   ]
  },
  {
   "cell_type": "code",
   "execution_count": 26,
   "id": "58544db4",
   "metadata": {},
   "outputs": [],
   "source": [
    "df = df[['review_id','content','clean_reviews','keywords']]"
   ]
  },
  {
   "cell_type": "code",
   "execution_count": 27,
   "id": "03953ab7",
   "metadata": {},
   "outputs": [],
   "source": [
    "df.to_csv('keyword_test_result.csv', encoding='utf-8-sig', index=False)"
   ]
  }
 ],
 "metadata": {
  "kernelspec": {
   "display_name": "azen",
   "language": "python",
   "name": "python3"
  },
  "language_info": {
   "codemirror_mode": {
    "name": "ipython",
    "version": 3
   },
   "file_extension": ".py",
   "mimetype": "text/x-python",
   "name": "python",
   "nbconvert_exporter": "python",
   "pygments_lexer": "ipython3",
   "version": "3.10.18"
  }
 },
 "nbformat": 4,
 "nbformat_minor": 5
}
