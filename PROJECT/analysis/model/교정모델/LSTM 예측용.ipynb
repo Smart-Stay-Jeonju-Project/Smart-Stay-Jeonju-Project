{
 "cells": [
  {
   "cell_type": "code",
   "execution_count": 1,
   "id": "df7fa4eb",
   "metadata": {},
   "outputs": [],
   "source": [
    "import pandas as pd\n",
    "import numpy as np\n",
    "import pickle\n",
    "from tensorflow.keras.preprocessing.sequence import pad_sequences\n",
    "from tensorflow.keras.models import load_model"
   ]
  },
  {
   "cell_type": "code",
   "execution_count": 2,
   "id": "dd577a31",
   "metadata": {},
   "outputs": [],
   "source": [
    "# tokenizer 불러오기\n",
    "with open('tokenizer.pkl', 'rb') as f:\n",
    "    tokenizer = pickle.load(f)\n",
    "\n",
    "# 모델 불러오기 (.h5)\n",
    "model = load_model('best_model.h5')"
   ]
  },
  {
   "cell_type": "code",
   "execution_count": 3,
   "id": "5ea355a7",
   "metadata": {},
   "outputs": [
    {
     "name": "stdout",
     "output_type": "stream",
     "text": [
      "Model: \"sequential_2\"\n",
      "_________________________________________________________________\n",
      " Layer (type)                Output Shape              Param #   \n",
      "=================================================================\n",
      " embedding_2 (Embedding)     (None, 70, 32)            320000    \n",
      "                                                                 \n",
      " lstm (LSTM)                 (None, 32)                8320      \n",
      "                                                                 \n",
      " dropout (Dropout)           (None, 32)                0         \n",
      "                                                                 \n",
      " dense (Dense)               (None, 32)                1056      \n",
      "                                                                 \n",
      " dropout_1 (Dropout)         (None, 32)                0         \n",
      "                                                                 \n",
      " dense_1 (Dense)             (None, 1)                 33        \n",
      "                                                                 \n",
      "=================================================================\n",
      "Total params: 329,409\n",
      "Trainable params: 329,409\n",
      "Non-trainable params: 0\n",
      "_________________________________________________________________\n"
     ]
    }
   ],
   "source": [
    "model.summary()"
   ]
  },
  {
   "cell_type": "code",
   "execution_count": 4,
   "id": "40f9c46a",
   "metadata": {},
   "outputs": [],
   "source": [
    "from tensorflow.keras.models import Sequential\n",
    "from tensorflow.keras.layers import Embedding, LSTM, Dense, Dropout\n",
    "\n",
    "model = Sequential()\n",
    "model.add(Embedding(input_dim=8000, output_dim=128, input_length=70))\n",
    "model.add(LSTM(32))\n",
    "model.add(Dropout(0.5))\n",
    "model.add(Dense(1, activation='sigmoid'))"
   ]
  },
  {
   "cell_type": "code",
   "execution_count": 5,
   "id": "c584315d",
   "metadata": {},
   "outputs": [],
   "source": [
    "import re\n",
    "\n",
    "def clean_text(text):\n",
    "    # 한글, 숫자만 남기고 나머지 제거\n",
    "    text = re.sub(r\"[^가-힣0-9\\s]\", \"\", str(text))\n",
    "    words = text.split()\n",
    "    return ' '.join(words)"
   ]
  },
  {
   "cell_type": "code",
   "execution_count": 6,
   "id": "a25aefff",
   "metadata": {},
   "outputs": [
    {
     "name": "stdout",
     "output_type": "stream",
     "text": [
      "워드 인덱스 단어 개수 : 7038\n"
     ]
    }
   ],
   "source": [
    "import json\n",
    "with open(\"pkls/v2_maxlen_70/word_index.json\",\"r\", encoding='utf-8') as f:\n",
    "    word_index = json.load(f)\n",
    "print(f\"워드 인덱스 단어 개수 : {len(word_index)}\")\n",
    "vocab_size = len(word_index) + 1"
   ]
  },
  {
   "cell_type": "code",
   "execution_count": 7,
   "id": "329049c0",
   "metadata": {},
   "outputs": [
    {
     "ename": "FileNotFoundError",
     "evalue": "[Errno 2] No such file or directory: 'pkls/v2_maxlen_70/new_X_train_sequences.pickle'",
     "output_type": "error",
     "traceback": [
      "\u001b[1;31m---------------------------------------------------------------------------\u001b[0m",
      "\u001b[1;31mFileNotFoundError\u001b[0m                         Traceback (most recent call last)",
      "Cell \u001b[1;32mIn[7], line 3\u001b[0m\n\u001b[0;32m      1\u001b[0m \u001b[38;5;28;01mimport\u001b[39;00m\u001b[38;5;250m \u001b[39m\u001b[38;5;21;01mpickle\u001b[39;00m\n\u001b[0;32m      2\u001b[0m \u001b[38;5;66;03m# 학습 데이터 가져오기\u001b[39;00m\n\u001b[1;32m----> 3\u001b[0m \u001b[38;5;28;01mwith\u001b[39;00m \u001b[38;5;28;43mopen\u001b[39;49m\u001b[43m(\u001b[49m\u001b[38;5;124;43m\"\u001b[39;49m\u001b[38;5;124;43mpkls/v2_maxlen_70/new_X_train_sequences.pickle\u001b[39;49m\u001b[38;5;124;43m\"\u001b[39;49m\u001b[43m,\u001b[49m\u001b[38;5;124;43m\"\u001b[39;49m\u001b[38;5;124;43mrb\u001b[39;49m\u001b[38;5;124;43m\"\u001b[39;49m\u001b[43m)\u001b[49m \u001b[38;5;28;01mas\u001b[39;00m fr:\n\u001b[0;32m      4\u001b[0m     X_train \u001b[38;5;241m=\u001b[39m pickle\u001b[38;5;241m.\u001b[39mload(fr)\n\u001b[0;32m      5\u001b[0m \u001b[38;5;28;01mwith\u001b[39;00m \u001b[38;5;28mopen\u001b[39m(\u001b[38;5;124m\"\u001b[39m\u001b[38;5;124mpkls/v2_maxlen_70/new_X_test_sequences.pickle\u001b[39m\u001b[38;5;124m\"\u001b[39m,\u001b[38;5;124m\"\u001b[39m\u001b[38;5;124mrb\u001b[39m\u001b[38;5;124m\"\u001b[39m) \u001b[38;5;28;01mas\u001b[39;00m fr:\n",
      "File \u001b[1;32mc:\\Users\\MYCOM\\.conda\\envs\\azen\\lib\\site-packages\\IPython\\core\\interactiveshell.py:324\u001b[0m, in \u001b[0;36m_modified_open\u001b[1;34m(file, *args, **kwargs)\u001b[0m\n\u001b[0;32m    317\u001b[0m \u001b[38;5;28;01mif\u001b[39;00m file \u001b[38;5;129;01min\u001b[39;00m {\u001b[38;5;241m0\u001b[39m, \u001b[38;5;241m1\u001b[39m, \u001b[38;5;241m2\u001b[39m}:\n\u001b[0;32m    318\u001b[0m     \u001b[38;5;28;01mraise\u001b[39;00m \u001b[38;5;167;01mValueError\u001b[39;00m(\n\u001b[0;32m    319\u001b[0m         \u001b[38;5;124mf\u001b[39m\u001b[38;5;124m\"\u001b[39m\u001b[38;5;124mIPython won\u001b[39m\u001b[38;5;124m'\u001b[39m\u001b[38;5;124mt let you open fd=\u001b[39m\u001b[38;5;132;01m{\u001b[39;00mfile\u001b[38;5;132;01m}\u001b[39;00m\u001b[38;5;124m by default \u001b[39m\u001b[38;5;124m\"\u001b[39m\n\u001b[0;32m    320\u001b[0m         \u001b[38;5;124m\"\u001b[39m\u001b[38;5;124mas it is likely to crash IPython. If you know what you are doing, \u001b[39m\u001b[38;5;124m\"\u001b[39m\n\u001b[0;32m    321\u001b[0m         \u001b[38;5;124m\"\u001b[39m\u001b[38;5;124myou can use builtins\u001b[39m\u001b[38;5;124m'\u001b[39m\u001b[38;5;124m open.\u001b[39m\u001b[38;5;124m\"\u001b[39m\n\u001b[0;32m    322\u001b[0m     )\n\u001b[1;32m--> 324\u001b[0m \u001b[38;5;28;01mreturn\u001b[39;00m io_open(file, \u001b[38;5;241m*\u001b[39margs, \u001b[38;5;241m*\u001b[39m\u001b[38;5;241m*\u001b[39mkwargs)\n",
      "\u001b[1;31mFileNotFoundError\u001b[0m: [Errno 2] No such file or directory: 'pkls/v2_maxlen_70/new_X_train_sequences.pickle'"
     ]
    }
   ],
   "source": [
    "import pickle\n",
    "# 학습 데이터 가져오기\n",
    "with open(\"pkls/v2_maxlen_70/new_X_train_sequences.pickle\",\"rb\") as fr:\n",
    "    X_train = pickle.load(fr)\n",
    "with open(\"pkls/v2_maxlen_70/new_X_test_sequences.pickle\",\"rb\") as fr:\n",
    "    X_test = pickle.load(fr)\n",
    "# 테스트 데이터 가져오기\n",
    "with open(\"pkls/v2_maxlen_70/new_y_train_filterd.pickle\",\"rb\") as fr:\n",
    "    y_train = pickle.load(fr)\n",
    "with open(\"pkls/v2_maxlen_70/new_y_test_filterd.pickle\",\"rb\") as fr:\n",
    "    y_test = pickle.load(fr)"
   ]
  },
  {
   "cell_type": "code",
   "execution_count": 114,
   "id": "88c06339",
   "metadata": {},
   "outputs": [
    {
     "name": "stdout",
     "output_type": "stream",
     "text": [
      "로드된 데이터 개수 :\n",
      "X_train : 37385 / y_train : 37385\n",
      "X_test : 9499 / y_test : 9499\n"
     ]
    }
   ],
   "source": [
    "print(\"로드된 데이터 개수 :\")\n",
    "print(f\"X_train : {len(X_train)} / y_train : {len(y_train)}\")\n",
    "print(f\"X_test : {len(X_test)} / y_test : {len(y_test)}\")"
   ]
  },
  {
   "cell_type": "code",
   "execution_count": null,
   "id": "0d593d99",
   "metadata": {},
   "outputs": [],
   "source": [
    "from tensorflow.keras.preprocessing.text import Tokenizer\n",
    "from tensorflow.keras.preprocessing.sequence import pad_sequences\n",
    "import numpy as np\n",
    "import pandas as pd\n",
    "\n",
    "# 1. 원래 텍스트 (str) 리스트가 필요\n",
    "df = pd.read_csv(\"test_datas.csv\")\n",
    "X_train_raw = df['text'].astype(str).apply(clean_text).tolist()\n",
    "\n",
    "# 2. 토크나이저 학습\n",
    "tokenizer = Tokenizer(num_words=12000, oov_token=\"<OOV>\")\n",
    "tokenizer.fit_on_texts(X_train_raw)\n",
    "\n",
    "# 3. 시퀀스로 변환\n",
    "X_train_seq = tokenizer.texts_to_sequences(X_train_raw)\n",
    "\n",
    "# 4. 시퀀스를 패딩\n",
    "X_train_pad = pad_sequences(X_train_seq, maxlen=70, padding='post', truncating='post', dtype='int32')\n",
    "\n",
    "# pred_probs = model.predict(X_train_pad, batch_size=128)\n",
    "# pred_labels = (pred_probs > 0.5).astype(int).flatten()"
   ]
  },
  {
   "cell_type": "code",
   "execution_count": null,
   "id": "57cfee6d",
   "metadata": {},
   "outputs": [],
   "source": [
    "def predict_sentiment_batch(padded_sequences, model, threshold=0.5):\n",
    "    pred_probs = model.predict(padded_sequences)[:, 0]\n",
    "    labels = (pred_probs > threshold).astype(int)\n",
    "    return labels, pred_probs"
   ]
  },
  {
   "cell_type": "code",
   "execution_count": 101,
   "id": "33da966c",
   "metadata": {},
   "outputs": [
    {
     "name": "stdout",
     "output_type": "stream",
     "text": [
      "323/323 [==============================] - 3s 8ms/step\n"
     ]
    }
   ],
   "source": [
    "from sklearn.metrics import classification_report\n",
    "pred_labels, pred_probs = predict_sentiment_batch(X_train_pad, model)"
   ]
  },
  {
   "cell_type": "code",
   "execution_count": null,
   "id": "35840d8a",
   "metadata": {},
   "outputs": [],
   "source": [
    "# 진짜 긍정만 1로 보고 싶다면:\n",
    "pred_labels = (pred_probs > 0.8).astype(int)\n",
    "\n",
    "# 아예 반대로 부정 감지하려면:\n",
    "pred_labels = (pred_probs < 0.4).astype(int)"
   ]
  },
  {
   "cell_type": "code",
   "execution_count": 102,
   "id": "1541d52a",
   "metadata": {},
   "outputs": [],
   "source": [
    "df['labels'] = pred_labels\n",
    "df['probs'] = pred_probs.flatten()"
   ]
  },
  {
   "cell_type": "code",
   "execution_count": 103,
   "id": "5ee57925",
   "metadata": {},
   "outputs": [],
   "source": [
    "df = df[['text','label','predicted_label','labels']]"
   ]
  },
  {
   "cell_type": "code",
   "execution_count": 104,
   "id": "5de79af4",
   "metadata": {},
   "outputs": [],
   "source": [
    "df.to_csv(\"new_test_datas.csv\", index=False, encoding='utf-8-sig')"
   ]
  },
  {
   "cell_type": "code",
   "execution_count": 107,
   "id": "730be118",
   "metadata": {},
   "outputs": [
    {
     "name": "stdout",
     "output_type": "stream",
     "text": [
      "labels\n",
      "1    10315\n",
      "Name: count, dtype: int64\n"
     ]
    }
   ],
   "source": [
    "print(df['labels'].value_counts())"
   ]
  },
  {
   "cell_type": "code",
   "execution_count": 105,
   "id": "33c36514",
   "metadata": {},
   "outputs": [
    {
     "data": {
      "image/png": "[encoded data removed]",
      "text/plain": [
       "<Figure size 640x480 with 1 Axes>"
      ]
     },
     "metadata": {},
     "output_type": "display_data"
    }
   ],
   "source": [
    "import matplotlib.pyplot as plt\n",
    "\n",
    "plt.hist(pred_probs, bins=50)\n",
    "plt.title(\"Positive Probability Distribution\")\n",
    "plt.xlabel(\"Probability\")\n",
    "plt.ylabel(\"Frequency\")\n",
    "plt.show()"
   ]
  },
  {
   "cell_type": "code",
   "execution_count": null,
   "id": "899d1bf2",
   "metadata": {},
   "outputs": [],
   "source": [
    "import pandas as pd\n",
    "import numpy as np\n",
    "import re\n",
    "from tensorflow.keras.preprocessing.text import Tokenizer\n",
    "from tensorflow.keras.preprocessing.sequence import pad_sequences\n",
    "\n",
    "def clean_text(text):\n",
    "    text = re.sub(r\"[^가-힣0-9\\s]\", \"\", str(text))\n",
    "    return ' '.join(text.split())\n",
    "\n",
    "# 데이터 로드\n",
    "train_df = pd.read_csv(\"data/정제_train_data.csv\")\n",
    "test_df = pd.read_csv(\"data/정제_test_data.csv\")\n",
    "\n",
    "# 전처리\n",
    "train_df['text'] = train_df['text'].astype(str).apply(clean_text)\n",
    "test_df['text'] = test_df['text'].astype(str).apply(clean_text)\n",
    "\n",
    "# 텍스트 리스트\n",
    "X_train = train_df['text'].tolist()\n",
    "X_test = test_df['text'].tolist()\n",
    "\n",
    "# 라벨 리스트\n",
    "y_train = train_df['label'].astype(np.int32).values\n",
    "y_test = test_df['label'].astype(np.int32).values\n",
    "\n",
    "# 4. 토크나이저 학습 및 정수 인코딩\n",
    "tokenizer = Tokenizer(num_words=10000, oov_token='<OOV>')\n",
    "tokenizer.fit_on_texts(X_train)\n",
    "\n",
    "# 5. 길이 제한 후 다시 쌍 정렬\n",
    "def trim_samples(X, y, max_len):\n",
    "    X_out, y_out = [], []\n",
    "    for x, label in zip(X, y):\n",
    "        if len(x) <= max_len:\n",
    "            X_out.append(x)\n",
    "            y_out.append(label)\n",
    "    return X_out, y_out\n",
    "\n",
    "# 시퀀스 변환\n",
    "X_train_seq = tokenizer.texts_to_sequences(X_train)\n",
    "X_test_seq = tokenizer.texts_to_sequences(X_test)\n",
    "\n",
    "# 패딩\n",
    "max_len = 100\n",
    "X_train_pad = pad_sequences(X_train_seq, maxlen=max_len, padding='post', truncating='post', dtype='int32')\n",
    "X_test_pad = pad_sequences(X_test_seq, maxlen=max_len, padding='post', truncating='post', dtype='int32')\n"
   ]
  },
  {
   "cell_type": "code",
   "execution_count": 15,
   "id": "54ba0f58",
   "metadata": {},
   "outputs": [
    {
     "name": "stdout",
     "output_type": "stream",
     "text": [
      "라벨 0 개수: 10304\n",
      "라벨 1 개수: 10305\n"
     ]
    }
   ],
   "source": [
    "import numpy as np\n",
    "unique, counts = np.unique(y_train, return_counts=True)\n",
    "for label, count in zip(unique, counts):\n",
    "    print(f\"라벨 {label} 개수: {count}\")"
   ]
  },
  {
   "cell_type": "code",
   "execution_count": null,
   "id": "12f13ad0",
   "metadata": {},
   "outputs": [
    {
     "name": "stdout",
     "output_type": "stream",
     "text": [
      "Epoch 1/12\n"
     ]
    },
    {
     "name": "stderr",
     "output_type": "stream",
     "text": [
      "c:\\Users\\MYCOM\\.conda\\envs\\azen\\lib\\site-packages\\keras\\src\\layers\\core\\embedding.py:97: UserWarning: Argument `input_length` is deprecated. Just remove it.\n",
      "  warnings.warn(\n"
     ]
    },
    {
     "name": "stdout",
     "output_type": "stream",
     "text": [
      "\u001b[1m258/258\u001b[0m \u001b[32m━━━━━━━━━━━━━━━━━━━━\u001b[0m\u001b[37m\u001b[0m \u001b[1m0s\u001b[0m 48ms/step - accuracy: 0.4991 - loss: 0.6932\n",
      "Epoch 1: val_accuracy improved from -inf to 0.50412, saving model to ./logs/exp_20250715-192729_lr0.0001_bs64_lstm64\\best_model.h5\n"
     ]
    },
    {
     "name": "stderr",
     "output_type": "stream",
     "text": [
      "WARNING:absl:You are saving your model as an HDF5 file via `model.save()` or `keras.saving.save_model(model)`. This file format is considered legacy. We recommend using instead the native Keras format, e.g. `model.save('my_model.keras')` or `keras.saving.save_model(model, 'my_model.keras')`. \n"
     ]
    },
    {
     "name": "stdout",
     "output_type": "stream",
     "text": [
      "\u001b[1m258/258\u001b[0m \u001b[32m━━━━━━━━━━━━━━━━━━━━\u001b[0m\u001b[37m\u001b[0m \u001b[1m16s\u001b[0m 54ms/step - accuracy: 0.4991 - loss: 0.6932 - val_accuracy: 0.5041 - val_loss: 0.6931\n",
      "Epoch 2/12\n",
      "\u001b[1m258/258\u001b[0m \u001b[32m━━━━━━━━━━━━━━━━━━━━\u001b[0m\u001b[37m\u001b[0m \u001b[1m0s\u001b[0m 42ms/step - accuracy: 0.5042 - loss: 0.6932\n",
      "Epoch 2: val_accuracy improved from 0.50412 to 0.50607, saving model to ./logs/exp_20250715-192729_lr0.0001_bs64_lstm64\\best_model.h5\n"
     ]
    },
    {
     "name": "stderr",
     "output_type": "stream",
     "text": [
      "WARNING:absl:You are saving your model as an HDF5 file via `model.save()` or `keras.saving.save_model(model)`. This file format is considered legacy. We recommend using instead the native Keras format, e.g. `model.save('my_model.keras')` or `keras.saving.save_model(model, 'my_model.keras')`. \n"
     ]
    },
    {
     "name": "stdout",
     "output_type": "stream",
     "text": [
      "\u001b[1m258/258\u001b[0m \u001b[32m━━━━━━━━━━━━━━━━━━━━\u001b[0m\u001b[37m\u001b[0m \u001b[1m12s\u001b[0m 46ms/step - accuracy: 0.5042 - loss: 0.6932 - val_accuracy: 0.5061 - val_loss: 0.6930\n",
      "Epoch 3/12\n",
      "\u001b[1m258/258\u001b[0m \u001b[32m━━━━━━━━━━━━━━━━━━━━\u001b[0m\u001b[37m\u001b[0m \u001b[1m0s\u001b[0m 44ms/step - accuracy: 0.5074 - loss: 0.6932\n",
      "Epoch 3: val_accuracy did not improve from 0.50607\n",
      "\u001b[1m258/258\u001b[0m \u001b[32m━━━━━━━━━━━━━━━━━━━━\u001b[0m\u001b[37m\u001b[0m \u001b[1m12s\u001b[0m 48ms/step - accuracy: 0.5074 - loss: 0.6932 - val_accuracy: 0.5056 - val_loss: 0.6930\n",
      "Epoch 4/12\n",
      "\u001b[1m258/258\u001b[0m \u001b[32m━━━━━━━━━━━━━━━━━━━━\u001b[0m\u001b[37m\u001b[0m \u001b[1m0s\u001b[0m 42ms/step - accuracy: 0.4964 - loss: 0.6932\n",
      "Epoch 4: val_accuracy did not improve from 0.50607\n",
      "\u001b[1m258/258\u001b[0m \u001b[32m━━━━━━━━━━━━━━━━━━━━\u001b[0m\u001b[37m\u001b[0m \u001b[1m12s\u001b[0m 46ms/step - accuracy: 0.4965 - loss: 0.6932 - val_accuracy: 0.5058 - val_loss: 0.6929\n",
      "Epoch 5/12\n",
      "\u001b[1m258/258\u001b[0m \u001b[32m━━━━━━━━━━━━━━━━━━━━\u001b[0m\u001b[37m\u001b[0m \u001b[1m0s\u001b[0m 43ms/step - accuracy: 0.4959 - loss: 0.6930\n",
      "Epoch 5: val_accuracy did not improve from 0.50607\n",
      "\u001b[1m258/258\u001b[0m \u001b[32m━━━━━━━━━━━━━━━━━━━━\u001b[0m\u001b[37m\u001b[0m \u001b[1m12s\u001b[0m 47ms/step - accuracy: 0.4959 - loss: 0.6930 - val_accuracy: 0.5017 - val_loss: 0.6927\n",
      "Epoch 6/12\n",
      "\u001b[1m257/258\u001b[0m \u001b[32m━━━━━━━━━━━━━━━━━━━\u001b[0m\u001b[37m━\u001b[0m \u001b[1m0s\u001b[0m 44ms/step - accuracy: 0.5083 - loss: 0.6927\n",
      "Epoch 6: val_accuracy improved from 0.50607 to 0.51262, saving model to ./logs/exp_20250715-192729_lr0.0001_bs64_lstm64\\best_model.h5\n"
     ]
    },
    {
     "name": "stderr",
     "output_type": "stream",
     "text": [
      "WARNING:absl:You are saving your model as an HDF5 file via `model.save()` or `keras.saving.save_model(model)`. This file format is considered legacy. We recommend using instead the native Keras format, e.g. `model.save('my_model.keras')` or `keras.saving.save_model(model, 'my_model.keras')`. \n"
     ]
    },
    {
     "name": "stdout",
     "output_type": "stream",
     "text": [
      "\u001b[1m258/258\u001b[0m \u001b[32m━━━━━━━━━━━━━━━━━━━━\u001b[0m\u001b[37m\u001b[0m \u001b[1m12s\u001b[0m 48ms/step - accuracy: 0.5083 - loss: 0.6927 - val_accuracy: 0.5126 - val_loss: 0.6915\n",
      "Epoch 7/12\n",
      "\u001b[1m258/258\u001b[0m \u001b[32m━━━━━━━━━━━━━━━━━━━━\u001b[0m\u001b[37m\u001b[0m \u001b[1m0s\u001b[0m 42ms/step - accuracy: 0.5471 - loss: 0.6789\n",
      "Epoch 7: val_accuracy improved from 0.51262 to 0.83503, saving model to ./logs/exp_20250715-192729_lr0.0001_bs64_lstm64\\best_model.h5\n"
     ]
    },
    {
     "name": "stderr",
     "output_type": "stream",
     "text": [
      "WARNING:absl:You are saving your model as an HDF5 file via `model.save()` or `keras.saving.save_model(model)`. This file format is considered legacy. We recommend using instead the native Keras format, e.g. `model.save('my_model.keras')` or `keras.saving.save_model(model, 'my_model.keras')`. \n"
     ]
    },
    {
     "name": "stdout",
     "output_type": "stream",
     "text": [
      "\u001b[1m258/258\u001b[0m \u001b[32m━━━━━━━━━━━━━━━━━━━━\u001b[0m\u001b[37m\u001b[0m \u001b[1m12s\u001b[0m 47ms/step - accuracy: 0.5473 - loss: 0.6788 - val_accuracy: 0.8350 - val_loss: 0.5537\n",
      "Epoch 8/12\n",
      "\u001b[1m257/258\u001b[0m \u001b[32m━━━━━━━━━━━━━━━━━━━\u001b[0m\u001b[37m━\u001b[0m \u001b[1m0s\u001b[0m 45ms/step - accuracy: 0.7636 - loss: 0.5416\n",
      "Epoch 8: val_accuracy improved from 0.83503 to 0.85638, saving model to ./logs/exp_20250715-192729_lr0.0001_bs64_lstm64\\best_model.h5\n"
     ]
    },
    {
     "name": "stderr",
     "output_type": "stream",
     "text": [
      "WARNING:absl:You are saving your model as an HDF5 file via `model.save()` or `keras.saving.save_model(model)`. This file format is considered legacy. We recommend using instead the native Keras format, e.g. `model.save('my_model.keras')` or `keras.saving.save_model(model, 'my_model.keras')`. \n"
     ]
    },
    {
     "name": "stdout",
     "output_type": "stream",
     "text": [
      "\u001b[1m258/258\u001b[0m \u001b[32m━━━━━━━━━━━━━━━━━━━━\u001b[0m\u001b[37m\u001b[0m \u001b[1m13s\u001b[0m 49ms/step - accuracy: 0.7639 - loss: 0.5412 - val_accuracy: 0.8564 - val_loss: 0.3886\n",
      "Epoch 9/12\n",
      "\u001b[1m257/258\u001b[0m \u001b[32m━━━━━━━━━━━━━━━━━━━\u001b[0m\u001b[37m━\u001b[0m \u001b[1m0s\u001b[0m 43ms/step - accuracy: 0.8914 - loss: 0.3735\n",
      "Epoch 9: val_accuracy improved from 0.85638 to 0.90296, saving model to ./logs/exp_20250715-192729_lr0.0001_bs64_lstm64\\best_model.h5\n"
     ]
    },
    {
     "name": "stderr",
     "output_type": "stream",
     "text": [
      "WARNING:absl:You are saving your model as an HDF5 file via `model.save()` or `keras.saving.save_model(model)`. This file format is considered legacy. We recommend using instead the native Keras format, e.g. `model.save('my_model.keras')` or `keras.saving.save_model(model, 'my_model.keras')`. \n"
     ]
    },
    {
     "name": "stdout",
     "output_type": "stream",
     "text": [
      "\u001b[1m258/258\u001b[0m \u001b[32m━━━━━━━━━━━━━━━━━━━━\u001b[0m\u001b[37m\u001b[0m \u001b[1m12s\u001b[0m 47ms/step - accuracy: 0.8915 - loss: 0.3733 - val_accuracy: 0.9030 - val_loss: 0.3145\n",
      "Epoch 10/12\n",
      "\u001b[1m258/258\u001b[0m \u001b[32m━━━━━━━━━━━━━━━━━━━━\u001b[0m\u001b[37m\u001b[0m \u001b[1m0s\u001b[0m 40ms/step - accuracy: 0.9036 - loss: 0.3475\n",
      "Epoch 10: val_accuracy improved from 0.90296 to 0.91800, saving model to ./logs/exp_20250715-192729_lr0.0001_bs64_lstm64\\best_model.h5\n"
     ]
    },
    {
     "name": "stderr",
     "output_type": "stream",
     "text": [
      "WARNING:absl:You are saving your model as an HDF5 file via `model.save()` or `keras.saving.save_model(model)`. This file format is considered legacy. We recommend using instead the native Keras format, e.g. `model.save('my_model.keras')` or `keras.saving.save_model(model, 'my_model.keras')`. \n"
     ]
    },
    {
     "name": "stdout",
     "output_type": "stream",
     "text": [
      "\u001b[1m258/258\u001b[0m \u001b[32m━━━━━━━━━━━━━━━━━━━━\u001b[0m\u001b[37m\u001b[0m \u001b[1m11s\u001b[0m 44ms/step - accuracy: 0.9036 - loss: 0.3475 - val_accuracy: 0.9180 - val_loss: 0.2938\n",
      "Epoch 11/12\n",
      "\u001b[1m257/258\u001b[0m \u001b[32m━━━━━━━━━━━━━━━━━━━\u001b[0m\u001b[37m━\u001b[0m \u001b[1m0s\u001b[0m 42ms/step - accuracy: 0.9289 - loss: 0.2865\n",
      "Epoch 11: val_accuracy improved from 0.91800 to 0.91897, saving model to ./logs/exp_20250715-192729_lr0.0001_bs64_lstm64\\best_model.h5\n"
     ]
    },
    {
     "name": "stderr",
     "output_type": "stream",
     "text": [
      "WARNING:absl:You are saving your model as an HDF5 file via `model.save()` or `keras.saving.save_model(model)`. This file format is considered legacy. We recommend using instead the native Keras format, e.g. `model.save('my_model.keras')` or `keras.saving.save_model(model, 'my_model.keras')`. \n"
     ]
    },
    {
     "name": "stdout",
     "output_type": "stream",
     "text": [
      "\u001b[1m258/258\u001b[0m \u001b[32m━━━━━━━━━━━━━━━━━━━━\u001b[0m\u001b[37m\u001b[0m \u001b[1m12s\u001b[0m 46ms/step - accuracy: 0.9289 - loss: 0.2866 - val_accuracy: 0.9190 - val_loss: 0.2792\n",
      "Epoch 12/12\n",
      "\u001b[1m257/258\u001b[0m \u001b[32m━━━━━━━━━━━━━━━━━━━\u001b[0m\u001b[37m━\u001b[0m \u001b[1m0s\u001b[0m 41ms/step - accuracy: 0.9133 - loss: 0.3253\n",
      "Epoch 12: val_accuracy improved from 0.91897 to 0.91970, saving model to ./logs/exp_20250715-192729_lr0.0001_bs64_lstm64\\best_model.h5\n"
     ]
    },
    {
     "name": "stderr",
     "output_type": "stream",
     "text": [
      "WARNING:absl:You are saving your model as an HDF5 file via `model.save()` or `keras.saving.save_model(model)`. This file format is considered legacy. We recommend using instead the native Keras format, e.g. `model.save('my_model.keras')` or `keras.saving.save_model(model, 'my_model.keras')`. \n"
     ]
    },
    {
     "name": "stdout",
     "output_type": "stream",
     "text": [
      "\u001b[1m258/258\u001b[0m \u001b[32m━━━━━━━━━━━━━━━━━━━━\u001b[0m\u001b[37m\u001b[0m \u001b[1m12s\u001b[0m 46ms/step - accuracy: 0.9133 - loss: 0.3253 - val_accuracy: 0.9197 - val_loss: 0.2818\n"
     ]
    }
   ],
   "source": [
    "from tensorflow.keras.models import Sequential\n",
    "from tensorflow.keras.layers import Embedding, LSTM, Dropout, Dense\n",
    "from tensorflow.keras.optimizers import Adam\n",
    "from tensorflow.keras.callbacks import EarlyStopping, ModelCheckpoint\n",
    "from sklearn.utils import class_weight\n",
    "import os\n",
    "import time\n",
    "import csv\n",
    "from tensorflow.keras.callbacks import CSVLogger\n",
    "\n",
    "\n",
    "learning_rate = 1e-4\n",
    "\n",
    "# 실험 이름 정의 (날짜/시간 + 주요 하이퍼파라미터)\n",
    "timestamp = time.strftime('%Y%m%d-%H%M%S')\n",
    "experiment_name = f\"exp_{timestamp}_lr{learning_rate}_bs64_lstm64\"\n",
    "\n",
    "# 디렉토리 생성\n",
    "log_dir = f\"./logs/{experiment_name}\"\n",
    "os.makedirs(log_dir, exist_ok=True)\n",
    "\n",
    "# CSVLogger: epoch마다 val_acc, loss 등 기록\n",
    "csv_logger = CSVLogger(os.path.join(log_dir, 'training_log.csv'))\n",
    "\n",
    "# EarlyStopping & ModelCheckpoint (같이 사용)\n",
    "es = EarlyStopping(monitor='val_loss', patience=3, verbose=1)\n",
    "mc = ModelCheckpoint(os.path.join(log_dir, 'best_model.h5'),\n",
    "                     monitor='val_accuracy', save_best_only=True, verbose=1)\n",
    "\n",
    "# 모델 구성\n",
    "model = Sequential([\n",
    "    Embedding(input_dim=10000, output_dim=32, input_length=max_len),\n",
    "    LSTM(32),   # 유닛수 증가\n",
    "    Dropout(0.5), # 드롭아웃 증가\n",
    "    Dense(32, activation='relu'),\n",
    "    Dropout(0.3), # 드롭아웃 증가\n",
    "    Dense(1, activation='sigmoid')\n",
    "])\n",
    "\n",
    "\n",
    "# 컴파일\n",
    "model.compile(loss='binary_crossentropy',\n",
    "              optimizer=Adam(learning_rate=learning_rate),\n",
    "              metrics=['accuracy'])\n",
    "\n",
    "# 변경\n",
    "#BATCH_SIZE = 128\n",
    "BATCH_SIZE = 64\n",
    "\n",
    "class_weights = class_weight.compute_class_weight(\n",
    "    class_weight='balanced',\n",
    "    classes=np.unique(y_train),\n",
    "    y=y_train\n",
    ")\n",
    "class_weights = dict(enumerate(class_weights))\n",
    "\n",
    "# 훈련\n",
    "history = model.fit(\n",
    "    X_train_pad, y_train,\n",
    "    epochs=10,\n",
    "    batch_size=BATCH_SIZE,\n",
    "    validation_split=0.2,\n",
    "    callbacks=[es, mc, csv_logger],\n",
    "    class_weight=class_weights\n",
    ")\n",
    "\n",
    "\n",
    "# history 결과에서 마지막 성능 요약 저장\n",
    "final_log_path = os.path.join(log_dir, 'summary.csv')\n",
    "with open(final_log_path, 'w', newline='', encoding='utf-8') as f:\n",
    "    writer = csv.writer(f)\n",
    "    writer.writerow(['param', 'value'])\n",
    "    writer.writerow(['timestamp', timestamp])\n",
    "    writer.writerow(['embedding_dim', embedding_dim])\n",
    "    writer.writerow(['lstm_units', hidden_units])\n",
    "    writer.writerow(['learning_rate', learning_rate])\n",
    "    writer.writerow(['batch_size', BATCH_SIZE])\n",
    "    writer.writerow(['max_len', max_len])\n",
    "    writer.writerow(['val_accuracy_last', history.history['val_accuracy'][-1]])\n",
    "    writer.writerow(['val_loss_last', history.history['val_loss'][-1]])\n"
   ]
  },
  {
   "cell_type": "code",
   "execution_count": 23,
   "id": "1372c12d",
   "metadata": {},
   "outputs": [],
   "source": [
    "def predict_sentiment(text):\n",
    "    seq = tokenizer.texts_to_sequences([text])\n",
    "    pad = pad_sequences(seq, maxlen=100, padding='post', truncating='post')\n",
    "    prob = model.predict(pad)[0][0]\n",
    "    label = '긍정' if prob > 0.5 else '부정'\n",
    "    print(f\"[리뷰] {text}\\n→ 예측: {label} (확률: {prob:.2f})\")\n",
    "    return label, prob"
   ]
  },
  {
   "cell_type": "code",
   "execution_count": 24,
   "id": "7b3168a0",
   "metadata": {},
   "outputs": [
    {
     "name": "stdout",
     "output_type": "stream",
     "text": [
      "\u001b[1m1/1\u001b[0m \u001b[32m━━━━━━━━━━━━━━━━━━━━\u001b[0m\u001b[37m\u001b[0m \u001b[1m0s\u001b[0m 197ms/step\n",
      "[리뷰] 사장님이 정말 친절하고 방도 깨끗해요!\n",
      "→ 예측: 긍정 (확률: 0.90)\n",
      "\u001b[1m1/1\u001b[0m \u001b[32m━━━━━━━━━━━━━━━━━━━━\u001b[0m\u001b[37m\u001b[0m \u001b[1m0s\u001b[0m 29ms/step\n",
      "[리뷰] 방음이 너무 안되고 시설이 낡았어요.\n",
      "→ 예측: 부정 (확률: 0.05)\n"
     ]
    },
    {
     "data": {
      "text/plain": [
       "('부정', np.float32(0.052923147))"
      ]
     },
     "execution_count": 24,
     "metadata": {},
     "output_type": "execute_result"
    }
   ],
   "source": [
    "predict_sentiment(\"사장님이 정말 친절하고 방도 깨끗해요!\")\n",
    "predict_sentiment(\"방음이 너무 안되고 시설이 낡았어요.\")"
   ]
  },
  {
   "cell_type": "code",
   "execution_count": 25,
   "id": "3291da9b",
   "metadata": {},
   "outputs": [],
   "source": [
    "final_model_path = os.path.join(log_dir, 'final_model.keras')\n",
    "model.save(final_model_path)"
   ]
  },
  {
   "cell_type": "code",
   "execution_count": null,
   "id": "8e78c7ec",
   "metadata": {},
   "outputs": [
    {
     "name": "stdout",
     "output_type": "stream",
     "text": [
      "Name: transformers\n",
      "Version: 4.53.2\n",
      "Summary: State-of-the-art Machine Learning for JAX, PyTorch and TensorFlow\n",
      "Home-page: https://github.com/huggingface/transformers\n",
      "Author: The Hugging Face team (past and future) with the help of all our contributors (https://github.com/huggingface/transformers/graphs/contributors)\n",
      "Author-email: transformers@huggingface.co\n",
      "License: Apache 2.0 License\n",
      "Location: c:\\users\\mycom\\.conda\\envs\\azen\\lib\\site-packages\n",
      "Requires: filelock, huggingface-hub, numpy, packaging, pyyaml, regex, requests, safetensors, tokenizers, tqdm\n",
      "Required-by: \n"
     ]
    }
   ],
   "source": [
    "#!pip install --upgrade transformers datasets accelerate\n",
    "#!pip install tf-keras\n",
    "\n",
    "#!pip show transformers"
   ]
  },
  {
   "cell_type": "code",
   "execution_count": 39,
   "id": "0d761b3a",
   "metadata": {},
   "outputs": [
    {
     "name": "stdout",
     "output_type": "stream",
     "text": [
      "transformers.training_args\n"
     ]
    }
   ],
   "source": [
    "from transformers import TrainingArguments\n",
    "print(TrainingArguments.__module__)"
   ]
  },
  {
   "cell_type": "code",
   "execution_count": 38,
   "id": "d893641d",
   "metadata": {},
   "outputs": [
    {
     "name": "stderr",
     "output_type": "stream",
     "text": [
      "Map: 100%|██████████| 16487/16487 [00:02<00:00, 7231.05 examples/s]\n",
      "Map: 100%|██████████| 4122/4122 [00:00<00:00, 9579.54 examples/s]\n",
      "Some weights of RobertaForSequenceClassification were not initialized from the model checkpoint at klue/roberta-base and are newly initialized: ['classifier.dense.bias', 'classifier.dense.weight', 'classifier.out_proj.bias', 'classifier.out_proj.weight']\n",
      "You should probably TRAIN this model on a down-stream task to be able to use it for predictions and inference.\n"
     ]
    },
    {
     "ename": "TypeError",
     "evalue": "TrainingArguments.__init__() got an unexpected keyword argument 'evaluation_strategy'",
     "output_type": "error",
     "traceback": [
      "\u001b[1;31m---------------------------------------------------------------------------\u001b[0m",
      "\u001b[1;31mTypeError\u001b[0m                                 Traceback (most recent call last)",
      "Cell \u001b[1;32mIn[38], line 35\u001b[0m\n\u001b[0;32m     32\u001b[0m model \u001b[38;5;241m=\u001b[39m AutoModelForSequenceClassification\u001b[38;5;241m.\u001b[39mfrom_pretrained(model_name, num_labels\u001b[38;5;241m=\u001b[39m\u001b[38;5;241m2\u001b[39m)\n\u001b[0;32m     34\u001b[0m \u001b[38;5;66;03m#  6. 훈련 설정\u001b[39;00m\n\u001b[1;32m---> 35\u001b[0m training_args \u001b[38;5;241m=\u001b[39m \u001b[43mTrainingArguments\u001b[49m\u001b[43m(\u001b[49m\n\u001b[0;32m     36\u001b[0m \u001b[43m    \u001b[49m\u001b[43moutput_dir\u001b[49m\u001b[38;5;241;43m=\u001b[39;49m\u001b[38;5;124;43m\"\u001b[39;49m\u001b[38;5;124;43m./results\u001b[39;49m\u001b[38;5;124;43m\"\u001b[39;49m\u001b[43m,\u001b[49m\n\u001b[0;32m     37\u001b[0m \u001b[43m    \u001b[49m\u001b[43mevaluation_strategy\u001b[49m\u001b[38;5;241;43m=\u001b[39;49m\u001b[38;5;124;43m\"\u001b[39;49m\u001b[38;5;124;43mepoch\u001b[39;49m\u001b[38;5;124;43m\"\u001b[39;49m\u001b[43m,\u001b[49m\n\u001b[0;32m     38\u001b[0m \u001b[43m    \u001b[49m\u001b[43msave_strategy\u001b[49m\u001b[38;5;241;43m=\u001b[39;49m\u001b[38;5;124;43m\"\u001b[39;49m\u001b[38;5;124;43mepoch\u001b[39;49m\u001b[38;5;124;43m\"\u001b[39;49m\u001b[43m,\u001b[49m\n\u001b[0;32m     39\u001b[0m \u001b[43m    \u001b[49m\u001b[43mlearning_rate\u001b[49m\u001b[38;5;241;43m=\u001b[39;49m\u001b[38;5;241;43m2e-5\u001b[39;49m\u001b[43m,\u001b[49m\n\u001b[0;32m     40\u001b[0m \u001b[43m    \u001b[49m\u001b[43mper_device_train_batch_size\u001b[49m\u001b[38;5;241;43m=\u001b[39;49m\u001b[38;5;241;43m16\u001b[39;49m\u001b[43m,\u001b[49m\n\u001b[0;32m     41\u001b[0m \u001b[43m    \u001b[49m\u001b[43mper_device_eval_batch_size\u001b[49m\u001b[38;5;241;43m=\u001b[39;49m\u001b[38;5;241;43m16\u001b[39;49m\u001b[43m,\u001b[49m\n\u001b[0;32m     42\u001b[0m \u001b[43m    \u001b[49m\u001b[43mnum_train_epochs\u001b[49m\u001b[38;5;241;43m=\u001b[39;49m\u001b[38;5;241;43m4\u001b[39;49m\u001b[43m,\u001b[49m\n\u001b[0;32m     43\u001b[0m \u001b[43m    \u001b[49m\u001b[43mweight_decay\u001b[49m\u001b[38;5;241;43m=\u001b[39;49m\u001b[38;5;241;43m0.01\u001b[39;49m\u001b[43m,\u001b[49m\n\u001b[0;32m     44\u001b[0m \u001b[43m    \u001b[49m\u001b[43mload_best_model_at_end\u001b[49m\u001b[38;5;241;43m=\u001b[39;49m\u001b[38;5;28;43;01mTrue\u001b[39;49;00m\u001b[43m,\u001b[49m\n\u001b[0;32m     45\u001b[0m \u001b[43m    \u001b[49m\u001b[43mmetric_for_best_model\u001b[49m\u001b[38;5;241;43m=\u001b[39;49m\u001b[38;5;124;43m\"\u001b[39;49m\u001b[38;5;124;43maccuracy\u001b[39;49m\u001b[38;5;124;43m\"\u001b[39;49m\u001b[43m,\u001b[49m\n\u001b[0;32m     46\u001b[0m \u001b[43m    \u001b[49m\u001b[43mgreater_is_better\u001b[49m\u001b[38;5;241;43m=\u001b[39;49m\u001b[38;5;28;43;01mTrue\u001b[39;49;00m\u001b[43m \u001b[49m\u001b[38;5;66;43;03m# 추가\u001b[39;49;00m\n\u001b[0;32m     47\u001b[0m \n\u001b[0;32m     48\u001b[0m \u001b[43m)\u001b[49m\n\u001b[0;32m     50\u001b[0m \u001b[38;5;66;03m#  7. 평가 지표 정의\u001b[39;00m\n\u001b[0;32m     51\u001b[0m \u001b[38;5;28;01mdef\u001b[39;00m\u001b[38;5;250m \u001b[39m\u001b[38;5;21mcompute_metrics\u001b[39m(eval_pred):\n",
      "\u001b[1;31mTypeError\u001b[0m: TrainingArguments.__init__() got an unexpected keyword argument 'evaluation_strategy'"
     ]
    }
   ],
   "source": [
    "from transformers import Trainer, TrainingArguments\n",
    "import pandas as pd\n",
    "from sklearn.model_selection import train_test_split\n",
    "from sklearn.metrics import classification_report\n",
    "from datasets import Dataset\n",
    "from transformers import AutoTokenizer, AutoModelForSequenceClassification\n",
    "import numpy as np\n",
    "import torch\n",
    "\n",
    "#  1. 데이터 로딩\n",
    "df = pd.read_csv(\"data/정제_train_data.csv\")  # 반드시 text, label 컬럼 있어야 함\n",
    "df = df[['text', 'label']]  # label: 0=부정, 1=긍정\n",
    "\n",
    "#  2. 학습/검증 분할\n",
    "train_df, test_df = train_test_split(df, test_size=0.2, random_state=42, stratify=df['label'])\n",
    "\n",
    "#  3. Huggingface Datasets 변환\n",
    "train_dataset = Dataset.from_pandas(train_df)\n",
    "test_dataset = Dataset.from_pandas(test_df)\n",
    "\n",
    "#  4. Tokenizer 및 전처리 함수\n",
    "model_name = \"klue/roberta-base\"  # 또는 \"monologg/kobert\"\n",
    "tokenizer = AutoTokenizer.from_pretrained(model_name)\n",
    "\n",
    "def tokenize_fn(examples):\n",
    "    return tokenizer(examples[\"text\"], padding=\"max_length\", truncation=True, max_length=128)\n",
    "\n",
    "train_dataset = train_dataset.map(tokenize_fn, batched=True)\n",
    "test_dataset = test_dataset.map(tokenize_fn, batched=True)\n",
    "\n",
    "#  5. 모델 정의 (2 클래스 분류)\n",
    "model = AutoModelForSequenceClassification.from_pretrained(model_name, num_labels=2)\n",
    "\n",
    "#  6. 훈련 설정\n",
    "training_args = TrainingArguments(\n",
    "    output_dir=\"./results\",\n",
    "    evaluation_strategy=\"epoch\",\n",
    "    save_strategy=\"epoch\",\n",
    "    learning_rate=2e-5,\n",
    "    per_device_train_batch_size=16,\n",
    "    per_device_eval_batch_size=16,\n",
    "    num_train_epochs=4,\n",
    "    weight_decay=0.01,\n",
    "    load_best_model_at_end=True,\n",
    "    metric_for_best_model=\"accuracy\",\n",
    "    greater_is_better=True # 추가\n",
    "\n",
    ")\n",
    "\n",
    "#  7. 평가 지표 정의\n",
    "def compute_metrics(eval_pred):\n",
    "    logits, labels = eval_pred\n",
    "    preds = np.argmax(logits, axis=-1)\n",
    "    acc = np.mean(preds == labels)\n",
    "    return {\"accuracy\": acc}\n",
    "\n",
    "#  8. Trainer 객체 생성\n",
    "trainer = Trainer(\n",
    "    model=model,\n",
    "    args=training_args,\n",
    "    train_dataset=train_dataset,\n",
    "    eval_dataset=test_dataset,\n",
    "    tokenizer=tokenizer,\n",
    "    compute_metrics=compute_metrics,\n",
    ")\n",
    "\n",
    "#  9. 모델 학습\n",
    "trainer.train()\n",
    "\n",
    "#  10. 예측 결과 출력\n",
    "preds = trainer.predict(test_dataset)\n",
    "pred_labels = np.argmax(preds.predictions, axis=1)\n",
    "true_labels = preds.label_ids\n",
    "\n",
    "print(\"\\n 평가 결과:\")\n",
    "print(classification_report(true_labels, pred_labels, target_names=[\"부정\", \"긍정\"]))\n"
   ]
  },
  {
   "cell_type": "code",
   "execution_count": null,
   "id": "e51ef673",
   "metadata": {},
   "outputs": [],
   "source": [
    "import pickle\n",
    "\n",
    "with open(\"tokenizer.pickle\", \"wb\") as handle:\n",
    "    pickle.dump(tokenizer, handle, protocol=pickle.HIGHEST_PROTOCOL)"
   ]
  },
  {
   "cell_type": "code",
   "execution_count": null,
   "id": "05dbb624",
   "metadata": {},
   "outputs": [],
   "source": [
    "import matplotlib.pyplot as plt\n",
    "\n",
    "loss, acc = model.evaluate(X_test_pad, y_test)\n",
    "print(f\"Test Accuracy: {acc:.4f}\")\n",
    "\n",
    "# 시각화\n",
    "plt.plot(history.history['accuracy'], label='Train Acc')\n",
    "plt.plot(history.history['val_accuracy'], label='Val Acc')\n",
    "plt.plot(history.history['loss'], label='Train Loss')\n",
    "plt.plot(history.history['val_loss'], label='Val Loss')\n",
    "plt.xlabel(\"Epoch\")\n",
    "plt.ylabel(\"Score\")\n",
    "plt.title(\"Training History\")\n",
    "plt.legend()\n",
    "plt.grid(True)\n",
    "plt.show()\n"
   ]
  },
  {
   "cell_type": "code",
   "execution_count": null,
   "id": "f871a651",
   "metadata": {},
   "outputs": [],
   "source": [
    "y_pred_probs = model.predict(X_test_pad)\n",
    "y_pred = (y_pred_probs > 0.5).astype(int)\n",
    "\n",
    "# 예시 출력\n",
    "for i in range(5):\n",
    "    print(f\"{X_test[i]}\")\n",
    "    print(f\"실제: {y_test[i]} / 예측: {y_pred[i][0]}\")\n",
    "    print(\"-\" * 40)"
   ]
  },
  {
   "cell_type": "code",
   "execution_count": null,
   "id": "560fc18c",
   "metadata": {},
   "outputs": [],
   "source": [
    "from tensorflow.keras.models import load_model\n",
    "\n",
    "model = load_model(\"best_model_keras.keras\")"
   ]
  },
  {
   "cell_type": "code",
   "execution_count": null,
   "id": "b24ee8e4",
   "metadata": {},
   "outputs": [],
   "source": [
    "import pandas as pd\n",
    "import numpy as np\n",
    "\n",
    "# 예측 확률 → 0.5 기준 이진 분류\n",
    "y_pred_probs = model.predict(X_test_pad)\n",
    "y_pred = (y_pred_probs > 0.5).astype(int).flatten()\n",
    "\n",
    "# 결과 DataFrame 생성\n",
    "results_df = pd.DataFrame({\n",
    "    'text': X_test,  # 원문 텍스트\n",
    "    'true_label': y_test,\n",
    "    'pred_label': y_pred,\n",
    "    'pred_prob': y_pred_probs.flatten()\n",
    "})\n",
    "\n",
    "# 저장\n",
    "results_df.to_csv(\"lstm_predictions.csv\", index=False, encoding=\"utf-8-sig\")\n",
    "print(\"예측 결과가 lstm_predictions.csv에 저장되었습니다.\")"
   ]
  },
  {
   "cell_type": "code",
   "execution_count": null,
   "id": "d24942a5",
   "metadata": {},
   "outputs": [],
   "source": [
    "!pip install wordcloud"
   ]
  },
  {
   "cell_type": "code",
   "execution_count": null,
   "id": "fe594c54",
   "metadata": {},
   "outputs": [],
   "source": [
    "from collections import Counter\n",
    "from wordcloud import WordCloud\n",
    "import matplotlib.pyplot as plt\n",
    "import re\n",
    "\n",
    "def extract_nouns(texts):\n",
    "    from konlpy.tag import Okt\n",
    "    okt = Okt()\n",
    "    all_nouns = []\n",
    "    for text in texts:\n",
    "        nouns = okt.nouns(str(text))\n",
    "        nouns = [n for n in nouns if len(n) > 1]  # 1글자 제외\n",
    "        all_nouns.extend(nouns)\n",
    "    return all_nouns\n",
    "\n",
    "# 예측 기준 분리\n",
    "positive_texts = results_df[results_df['pred_label'] == 1]['text'].tolist()\n",
    "negative_texts = results_df[results_df['pred_label'] == 0]['text'].tolist()\n",
    "\n",
    "# 키워드 추출\n",
    "positive_nouns = extract_nouns(positive_texts)\n",
    "negative_nouns = extract_nouns(negative_texts)\n",
    "\n",
    "# 빈도수 계산\n",
    "pos_freq = Counter(positive_nouns)\n",
    "neg_freq = Counter(negative_nouns)\n",
    "\n",
    "def generate_wordcloud(freq_dict, title, font_path='NanumGothic.ttf'):\n",
    "    wc = WordCloud(\n",
    "        font_path=font_path,\n",
    "        width=800,\n",
    "        height=400,\n",
    "        background_color='white'\n",
    "    )\n",
    "    wc_img = wc.generate_from_frequencies(freq_dict)\n",
    "    plt.figure(figsize=(10, 5))\n",
    "    plt.imshow(wc_img, interpolation='bilinear')\n",
    "    plt.axis('off')\n",
    "    plt.title(title)\n",
    "    plt.show()\n",
    "\n",
    "generate_wordcloud(pos_freq, \"pos\")\n",
    "generate_wordcloud(neg_freq, \"neg\")\n",
    "\n",
    "wc = WordCloud(font_path='NanumGothic.ttf', width=800, height=400, background_color='white')\n",
    "wc.generate_from_frequencies(pos_freq).to_file(\"positive_wordcloud.png\")\n",
    "wc.generate_from_frequencies(neg_freq).to_file(\"negative_wordcloud.png\")"
   ]
  },
  {
   "cell_type": "code",
   "execution_count": null,
   "id": "16261b01",
   "metadata": {},
   "outputs": [],
   "source": [
    "!pip cache purge"
   ]
  },
  {
   "cell_type": "code",
   "execution_count": null,
   "id": "ac108d09",
   "metadata": {},
   "outputs": [],
   "source": [
    "model.save(\"best_model.keras\")"
   ]
  },
  {
   "cell_type": "code",
   "execution_count": null,
   "id": "5533e855",
   "metadata": {},
   "outputs": [],
   "source": [
    "!pip uninstall tensorflow"
   ]
  },
  {
   "cell_type": "code",
   "execution_count": null,
   "id": "f0fca3ff",
   "metadata": {},
   "outputs": [],
   "source": [
    "!pip install tensorflow==2.9.0"
   ]
  },
  {
   "cell_type": "code",
   "execution_count": null,
   "id": "ca5a713b",
   "metadata": {},
   "outputs": [],
   "source": [
    "import tensorflow\n",
    "print(tensorflow.__version__)\n",
    "import keras\n",
    "print(keras.__version__)"
   ]
  },
  {
   "cell_type": "code",
   "execution_count": 1,
   "id": "4c3c6da8",
   "metadata": {},
   "outputs": [],
   "source": [
    "from tensorflow.keras.models import load_model\n",
    "model = load_model(\"best_model_keras.keras\")"
   ]
  },
  {
   "cell_type": "code",
   "execution_count": null,
   "id": "cca2790b",
   "metadata": {},
   "outputs": [],
   "source": [
    "import pandas as pd\n",
    "from keras.models import load_model\n",
    "from tensorflow.keras.preprocessing.sequence import pad_sequences\n",
    "import numpy as np\n",
    "import pickle\n",
    "\n",
    "# 모델 로드\n",
    "# model = load_model(\"best_model_keras.keras\")\n",
    "# model = load_model(\"best_model.h5\", compile=False)\n",
    "\n",
    "# 토크나이저 로드\n",
    "import pickle\n",
    "with open(\"tokenizer.pickle\", \"rb\") as handle:\n",
    "    tokenizer = pickle.load(handle)\n",
    "\n",
    "# 데이터 불러오기 (예: 실제 리뷰)\n",
    "df = pd.read_csv(\"y_reviews.csv\")\n",
    "texts = df['review_content'].tolist()\n",
    "\n",
    "# 전처리 및 시퀀스 변환\n",
    "sequences = tokenizer.texts_to_sequences(texts)\n",
    "padded = pad_sequences(sequences, maxlen=30)  # maxlen은 학습 때 사용한 값과 동일하게\n",
    "\n",
    "# 예측\n",
    "probs = model.predict(padded)\n",
    "preds = (probs > 0.5).astype(int).flatten()\n",
    "\n",
    "# 결과 추가\n",
    "df['predicted_label'] = preds\n",
    "df['sentiment_score'] = probs.flatten()  # 0~1 감성 점수\n",
    "\n",
    "# 저장\n",
    "df.to_csv(\"예측된_감성_리뷰.csv\", index=False, encoding='utf-8-sig')\n"
   ]
  },
  {
   "cell_type": "code",
   "execution_count": null,
   "id": "b06bc410",
   "metadata": {},
   "outputs": [],
   "source": [
    "import matplotlib.pyplot as plt\n",
    "\n",
    "plt.hist(df['sentiment_score'], bins=50)\n",
    "plt.title(\"감성 점수 분포\")\n",
    "plt.xlabel(\"sentiment_score\")\n",
    "plt.ylabel(\"리뷰 수\")\n",
    "plt.axvline(0.5, color='gray', linestyle='--')\n",
    "plt.show()"
   ]
  },
  {
   "cell_type": "code",
   "execution_count": null,
   "id": "f47df2a9",
   "metadata": {},
   "outputs": [],
   "source": [
    "def classify_3way(score, center=0.5, neutral_margin=0.01):\n",
    "    if abs(score - center) < neutral_margin:\n",
    "        return \"중립\"\n",
    "    elif score >= center + neutral_margin:\n",
    "        return \"긍정\"\n",
    "    else:\n",
    "        return \"부정\""
   ]
  },
  {
   "cell_type": "code",
   "execution_count": null,
   "id": "74f6e8a2",
   "metadata": {},
   "outputs": [],
   "source": [
    "df['predicted_label_3way'] = df['sentiment_score'].apply(classify_3way)\n",
    "df.to_csv(\"예측된_감성_리뷰.csv\", index=False, encoding='utf-8-sig')"
   ]
  }
 ],
 "metadata": {
  "kernelspec": {
   "display_name": "azen",
   "language": "python",
   "name": "python3"
  },
  "language_info": {
   "codemirror_mode": {
    "name": "ipython",
    "version": 3
   },
   "file_extension": ".py",
   "mimetype": "text/x-python",
   "name": "python",
   "nbconvert_exporter": "python",
   "pygments_lexer": "ipython3",
   "version": "3.10.18"
  }
 },
 "nbformat": 4,
 "nbformat_minor": 5
}
