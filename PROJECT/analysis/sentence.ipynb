{
 "cells": [
  {
   "cell_type": "code",
   "execution_count": 3,
   "id": "a5131d83",
   "metadata": {},
   "outputs": [],
   "source": [
    "import pandas as pd\n",
    "\n",
    "df = pd.read_csv('model/data/train_data.csv', encoding='utf-8-sig')"
   ]
  },
  {
   "cell_type": "code",
   "execution_count": null,
   "id": "f7bbb26c",
   "metadata": {},
   "outputs": [
    {
     "name": "stderr",
     "output_type": "stream",
     "text": [
      "[Kss]: Oh! You have mecab in your environment. Kss will take this as a backend! :D\n",
      "\n"
     ]
    }
   ],
   "source": [
    "import kss\n",
    "import pandas as pd\n",
    "\n",
    "\n",
    "nw_df = df[['text', 'rating','label']]\n",
    "\n",
    "# 결과 저장 리스트\n",
    "split_data = []\n",
    "\n",
    "# 문장 분리, 점수 + 라벨 유지\n",
    "for idx, row in nw_df.iterrows():\n",
    "    sentences = kss.split_sentences(row['text'])\n",
    "    for sentence in sentences:\n",
    "        sentence = sentence.strip()\n",
    "        if len(sentence) >= 5 :\n",
    "            split_data.append({\n",
    "                'sentence': sentence,\n",
    "                'rating': row['rating'],\n",
    "                'label': row['label']\n",
    "            })\n",
    "\n",
    "# 새 데이터프레임으로 변환\n",
    "split_df = pd.DataFrame(split_data)\n",
    "\n",
    "# 저장\n",
    "split_df.to_csv(\"new_train_data.csv\", index=False, encoding='utf-8-sig')"
   ]
  },
  {
   "cell_type": "code",
   "execution_count": 6,
   "id": "55029a8f",
   "metadata": {},
   "outputs": [],
   "source": [
    "df = pd.read_csv('model/data/test_data.csv', encoding='utf-8-sig')"
   ]
  },
  {
   "cell_type": "code",
   "execution_count": null,
   "id": "b4cbe164",
   "metadata": {},
   "outputs": [],
   "source": [
    "import pandas as pd\n",
    "import kss\n",
    "#text,rating,label\n",
    "# 필요한 컬럼만 선택 (이게 최종 데이터셋인 경우)\n",
    "nw_df = df[['text', 'rating','label']]\n",
    "\n",
    "# 결과 저장 리스트\n",
    "split_data = []\n",
    "\n",
    "# 문장 분리 + 메타정보 유지\n",
    "for idx, row in nw_df.iterrows():\n",
    "    sentences = kss.split_sentences(row['text'])\n",
    "    for sentence in sentences:\n",
    "        sentence = sentence.strip()\n",
    "            ',' in sentence\n",
    "        if len(sentence) >= 5:\n",
    "            split_data.append({\n",
    "                'sentence': sentence,\n",
    "                'rating': row['rating'],\n",
    "                'label': row['label']\n",
    "            })\n",
    "\n",
    "# 새 데이터프레임으로 변환\n",
    "split_df = pd.DataFrame(split_data)\n",
    "\n",
    "# 저장\n",
    "split_df.to_csv(\"new_test_data.csv\", index=False, encoding='utf-8-sig')"
   ]
  }
 ],
 "metadata": {
  "kernelspec": {
   "display_name": "azen",
   "language": "python",
   "name": "python3"
  },
  "language_info": {
   "codemirror_mode": {
    "name": "ipython",
    "version": 3
   },
   "file_extension": ".py",
   "mimetype": "text/x-python",
   "name": "python",
   "nbconvert_exporter": "python",
   "pygments_lexer": "ipython3",
   "version": "3.10.18"
  }
 },
 "nbformat": 4,
 "nbformat_minor": 5
}
