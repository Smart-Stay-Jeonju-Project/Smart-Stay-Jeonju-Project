{
 "cells": [
  {
   "cell_type": "markdown",
   "id": "b3213806",
   "metadata": {},
   "source": [
    "# 🔗 문장 임베딩 기반 리뷰 유사도 분석 (SentenceBERT)"
   ]
  },
  {
   "cell_type": "code",
   "execution_count": null,
   "id": "a8648929",
   "metadata": {},
   "outputs": [],
   "source": [
    "\n",
    "# 설치 (최초 1회 필요)\n",
    "# !pip install sentence-transformers pandas scikit-learn\n"
   ]
  },
  {
   "cell_type": "code",
   "execution_count": null,
   "id": "ad549791",
   "metadata": {},
   "outputs": [],
   "source": [
    "!pip install sentence-transformers"
   ]
  },
  {
   "cell_type": "code",
   "execution_count": null,
   "id": "db588ece",
   "metadata": {},
   "outputs": [],
   "source": [
    "\n",
    "import pandas as pd\n",
    "\n",
    "df = pd.read_csv(\"36000_reviews_label.csv\")\n",
    "df = df[['sentence', 'label']].dropna().reset_index(drop=True)\n",
    "df = df[df['label'].isin(['긍정', '부정', '중립'])]\n",
    "df = df.head(300)  # 연습용 소규모 샘플\n",
    "df.head()\n"
   ]
  },
  {
   "cell_type": "code",
   "execution_count": null,
   "id": "b629fb1b",
   "metadata": {},
   "outputs": [],
   "source": [
    "!pip install torch"
   ]
  },
  {
   "cell_type": "code",
   "execution_count": null,
   "id": "306d85a6",
   "metadata": {},
   "outputs": [],
   "source": [
    "!pip uninstall torch torchvision torchaudio sentence-transformers triton -y"
   ]
  },
  {
   "cell_type": "code",
   "execution_count": null,
   "id": "ce6ce13c",
   "metadata": {},
   "outputs": [],
   "source": [
    "!pip install torch==2.2.2 torchvision==0.17.2 torchaudio==2.2.2\n",
    "!pip install sentence-transformers==2.2.2\n",
    "!pip install triton==2.0.0"
   ]
  },
  {
   "cell_type": "code",
   "execution_count": null,
   "id": "8db930bc",
   "metadata": {},
   "outputs": [],
   "source": [
    "!pip uninstall torch torchvision torchaudio\n",
    "!pip uninstall sentence-transformers"
   ]
  },
  {
   "cell_type": "code",
   "execution_count": null,
   "id": "a13ce28b",
   "metadata": {},
   "outputs": [],
   "source": [
    "from sentence_transformers import SentenceTransformer\n",
    "\n",
    "model = SentenceTransformer('sentence-transformers/distiluse-base-multilingual-cased-v1')\n",
    "embeddings = model.encode(df['sentence'], convert_to_tensor=True)\n",
    "\n",
    "print(\"임베딩 완료! 리뷰 개수:\", len(embeddings))\n"
   ]
  },
  {
   "cell_type": "code",
   "execution_count": null,
   "id": "717fe5cb",
   "metadata": {},
   "outputs": [],
   "source": [
    "\n",
    "from sklearn.metrics.pairwise import cosine_similarity\n",
    "import numpy as np\n",
    "\n",
    "# 한 문장을 골라 유사한 리뷰 5개 찾기\n",
    "target_idx = 0\n",
    "target_vec = embeddings[target_idx].unsqueeze(0)\n",
    "\n",
    "cos_scores = cosine_similarity(target_vec, embeddings)[0]\n",
    "top_indices = np.argsort(cos_scores)[::-1][1:6]  # 자기 자신 제외\n",
    "\n",
    "print(\"🔍 기준 문장:\")\n",
    "print(df['review_content'][target_idx])\n",
    "print(\"\\n📍 유사 리뷰 Top 5:\")\n",
    "for i in top_indices:\n",
    "    print(f\"- ({cos_scores[i]:.3f})\", df['review_content'][i])\n"
   ]
  }
 ],
 "metadata": {
  "kernelspec": {
   "display_name": "azen",
   "language": "python",
   "name": "python3"
  },
  "language_info": {
   "codemirror_mode": {
    "name": "ipython",
    "version": 3
   },
   "file_extension": ".py",
   "mimetype": "text/x-python",
   "name": "python",
   "nbconvert_exporter": "python",
   "pygments_lexer": "ipython3",
   "version": "3.10.18"
  }
 },
 "nbformat": 4,
 "nbformat_minor": 5
}
