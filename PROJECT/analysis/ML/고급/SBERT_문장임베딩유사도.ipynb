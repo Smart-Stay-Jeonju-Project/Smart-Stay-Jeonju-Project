{
 "cells": [
  {
   "cell_type": "markdown",
   "id": "b3213806",
   "metadata": {},
   "source": [
    "# 🔗 문장 임베딩 기반 리뷰 유사도 분석 (SentenceBERT)"
   ]
  },
  {
   "cell_type": "code",
   "execution_count": null,
   "id": "a8648929",
   "metadata": {},
   "outputs": [],
   "source": [
    "\n",
    "# 설치 (최초 1회 필요)\n",
    "# !pip install sentence-transformers pandas scikit-learn\n"
   ]
  },
  {
   "cell_type": "code",
   "execution_count": null,
   "id": "db588ece",
   "metadata": {},
   "outputs": [],
   "source": [
    "\n",
    "import pandas as pd\n",
    "\n",
    "df = pd.read_csv(\"숙소_리뷰_감성_분석_결과.csv\")\n",
    "df = df[['review_content', 'sentiment_tfidf']].dropna().reset_index(drop=True)\n",
    "df = df[df['sentiment_tfidf'].isin(['긍정', '부정', '중립'])]\n",
    "df = df.head(300)  # 연습용 소규모 샘플\n",
    "df.head()\n"
   ]
  },
  {
   "cell_type": "code",
   "execution_count": null,
   "id": "a13ce28b",
   "metadata": {},
   "outputs": [],
   "source": [
    "\n",
    "from sentence_transformers import SentenceTransformer\n",
    "\n",
    "model = SentenceTransformer('sentence-transformers/distiluse-base-multilingual-cased-v1')\n",
    "embeddings = model.encode(df['review_content'], convert_to_tensor=True)\n",
    "\n",
    "print(\"임베딩 완료! 리뷰 개수:\", len(embeddings))\n"
   ]
  },
  {
   "cell_type": "code",
   "execution_count": null,
   "id": "717fe5cb",
   "metadata": {},
   "outputs": [],
   "source": [
    "\n",
    "from sklearn.metrics.pairwise import cosine_similarity\n",
    "import numpy as np\n",
    "\n",
    "# 한 문장을 골라 유사한 리뷰 5개 찾기\n",
    "target_idx = 0\n",
    "target_vec = embeddings[target_idx].unsqueeze(0)\n",
    "\n",
    "cos_scores = cosine_similarity(target_vec, embeddings)[0]\n",
    "top_indices = np.argsort(cos_scores)[::-1][1:6]  # 자기 자신 제외\n",
    "\n",
    "print(\"🔍 기준 문장:\")\n",
    "print(df['review_content'][target_idx])\n",
    "print(\"\\n📍 유사 리뷰 Top 5:\")\n",
    "for i in top_indices:\n",
    "    print(f\"- ({cos_scores[i]:.3f})\", df['review_content'][i])\n"
   ]
  }
 ],
 "metadata": {},
 "nbformat": 4,
 "nbformat_minor": 5
}
