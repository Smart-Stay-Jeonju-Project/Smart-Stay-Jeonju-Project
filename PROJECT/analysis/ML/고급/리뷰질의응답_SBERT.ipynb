{
 "cells": [
  {
   "cell_type": "markdown",
   "id": "e95edd1f",
   "metadata": {},
   "source": [
    "# 🤖 사용자 질문 기반 숙소 리뷰 질의응답 시스템"
   ]
  },
  {
   "cell_type": "code",
   "execution_count": null,
   "id": "e92cf407",
   "metadata": {},
   "outputs": [],
   "source": [
    "\n",
    "# !pip install sentence-transformers pandas scikit-learn\n"
   ]
  },
  {
   "cell_type": "code",
   "execution_count": null,
   "id": "e2ae9caa",
   "metadata": {},
   "outputs": [],
   "source": [
    "\n",
    "import pandas as pd\n",
    "\n",
    "# 감성 분석된 리뷰 데이터 (간단 샘플 300개)\n",
    "df = pd.read_csv(\"숙소_리뷰_감성_분석_결과.csv\")\n",
    "df = df[['name', 'review_content', 'sentiment_tfidf']].dropna().reset_index(drop=True)\n",
    "df = df[df['sentiment_tfidf'].isin(['긍정', '부정', '중립'])].head(300)\n"
   ]
  },
  {
   "cell_type": "code",
   "execution_count": null,
   "id": "d05eacdf",
   "metadata": {},
   "outputs": [],
   "source": [
    "\n",
    "from sentence_transformers import SentenceTransformer\n",
    "\n",
    "model = SentenceTransformer('sentence-transformers/distiluse-base-multilingual-cased-v1')\n",
    "review_embeddings = model.encode(df['review_content'], convert_to_tensor=True)\n"
   ]
  },
  {
   "cell_type": "code",
   "execution_count": null,
   "id": "64f63628",
   "metadata": {},
   "outputs": [],
   "source": [
    "\n",
    "from sklearn.metrics.pairwise import cosine_similarity\n",
    "\n",
    "# 사용자 질문 입력\n",
    "user_query = \"조용하고 청결한 숙소 추천해줘\"\n",
    "query_vec = model.encode([user_query])\n",
    "\n",
    "# 유사도 계산\n",
    "cos_scores = cosine_similarity(query_vec, review_embeddings)[0]\n",
    "top_idx = cos_scores.argsort()[::-1][:5]  # 상위 5개\n",
    "\n",
    "print(\"🙋 사용자 질문:\", user_query)\n",
    "print(\"\\n📍 가장 유사한 리뷰 5개:\")\n",
    "for i in top_idx:\n",
    "    name = df.iloc[i]['name']\n",
    "    review = df.iloc[i]['review_content']\n",
    "    score = cos_scores[i]\n",
    "    print(f\"🏨 {name} ({score:.3f})\\n→ {review}\\n\")\n"
   ]
  }
 ],
 "metadata": {},
 "nbformat": 4,
 "nbformat_minor": 5
}
