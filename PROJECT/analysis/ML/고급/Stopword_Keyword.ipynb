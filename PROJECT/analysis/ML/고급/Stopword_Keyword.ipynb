{
 "cells": [
  {
   "cell_type": "markdown",
   "id": "67266c96",
   "metadata": {},
   "source": [
    "# 🧹 TF-IDF 고도화 (Stopword 적용 + 키워드 필터링)"
   ]
  },
  {
   "cell_type": "code",
   "execution_count": null,
   "id": "338786c4",
   "metadata": {},
   "outputs": [],
   "source": [
    "\n",
    "# 필요 시 설치\n",
    "# !pip install pandas scikit-learn\n"
   ]
  },
  {
   "cell_type": "code",
   "execution_count": null,
   "id": "72e3709b",
   "metadata": {},
   "outputs": [],
   "source": [
    "\n",
    "import pandas as pd\n",
    "\n",
    "df = pd.read_csv(\"36000_reviews_label.csv\")\n",
    "df = df[['sentence', 'label']].dropna()\n",
    "df = df[df['label'].isin(['긍정', '부정', '중립'])]\n"
   ]
  },
  {
   "cell_type": "code",
   "execution_count": null,
   "id": "7ff2d78d",
   "metadata": {},
   "outputs": [],
   "source": [
    "\n",
    "default_stopwords = [\n",
    "    '있다', '없다', '하다', '되다', '이다', '같다', '에서', '그리고', '그냥', '정도', '더', '또', '많이', \n",
    "    '진짜', '너무', '좀', '아주', '이런', '저런', '그런', '것', '수', '잘', '게', '고', '는', '을', '를', '이', '가'\n",
    "]\n"
   ]
  },
  {
   "cell_type": "code",
   "execution_count": null,
   "id": "759d8b4c",
   "metadata": {},
   "outputs": [],
   "source": [
    "\n",
    "from sklearn.feature_extraction.text import TfidfVectorizer\n",
    "\n",
    "# stopword 없이\n",
    "vec_no_stop = TfidfVectorizer(max_features=5000, min_df=5)\n",
    "vec_no_stop.fit(df['review_content'])\n",
    "print(\"불용어 제거 전 단어 수:\", len(vec_no_stop.get_feature_names_out()))\n",
    "\n",
    "# stopword 적용\n",
    "vec_with_stop = TfidfVectorizer(max_features=5000, min_df=5, stop_words=default_stopwords)\n",
    "vec_with_stop.fit(df['review_content'])\n",
    "print(\"불용어 제거 후 단어 수:\", len(vec_with_stop.get_feature_names_out()))\n"
   ]
  },
  {
   "cell_type": "code",
   "execution_count": null,
   "id": "8a49c886",
   "metadata": {},
   "outputs": [],
   "source": [
    "\n",
    "def get_top_words_by_sentiment(df, label, stopwords=[], top_n=20):\n",
    "    from sklearn.feature_extraction.text import TfidfVectorizer\n",
    "    text = df[df['sentiment_tfidf'] == label]['review_content'].dropna().tolist()\n",
    "    vec = TfidfVectorizer(max_features=3000, stop_words=stopwords)\n",
    "    X = vec.fit_transform(text)\n",
    "    mean_tfidf = X.mean(axis=0).A1\n",
    "    words = vec.get_feature_names_out()\n",
    "    word_score_pairs = list(zip(words, mean_tfidf))\n",
    "    return sorted(word_score_pairs, key=lambda x: x[1], reverse=True)[:top_n]\n",
    "\n",
    "top_pos = get_top_words_by_sentiment(df, '긍정', default_stopwords)\n",
    "top_neg = get_top_words_by_sentiment(df, '부정', default_stopwords)\n",
    "\n",
    "print(\"👍 긍정 키워드:\")\n",
    "for word, score in top_pos: print(f\"{word}: {score:.4f}\")\n",
    "\n",
    "print(\"\\n👎 부정 키워드:\")\n",
    "for word, score in top_neg: print(f\"{word}: {score:.4f}\")\n"
   ]
  }
 ],
 "metadata": {
  "kernelspec": {
   "display_name": "azen",
   "language": "python",
   "name": "python3"
  },
  "language_info": {
   "name": "python",
   "version": "3.10.18"
  }
 },
 "nbformat": 4,
 "nbformat_minor": 5
}
