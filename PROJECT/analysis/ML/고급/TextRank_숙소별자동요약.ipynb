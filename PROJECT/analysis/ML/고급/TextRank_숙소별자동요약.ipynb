{
 "cells": [
  {
   "cell_type": "markdown",
   "id": "b3dbecdf",
   "metadata": {},
   "source": [
    "# 🧾 TextRank 기반 숙소 리뷰 자동 요약"
   ]
  },
  {
   "cell_type": "code",
   "execution_count": null,
   "id": "6e701d2a",
   "metadata": {},
   "outputs": [],
   "source": [
    "\n",
    "!pip install summa\n"
   ]
  },
  {
   "cell_type": "code",
   "execution_count": null,
   "id": "10adc005",
   "metadata": {},
   "outputs": [],
   "source": [
    "\n",
    "import pandas as pd\n",
    "from summa.summarizer import summarize\n",
    "\n",
    "# CSV 파일 로드 (리뷰 내용과 숙소명 포함)\n",
    "df = pd.read_csv(\"숙소_리뷰_감성_분석_결과.csv\")\n",
    "df = df[['name', 'review_content']].dropna()\n"
   ]
  },
  {
   "cell_type": "code",
   "execution_count": null,
   "id": "ddb44025",
   "metadata": {},
   "outputs": [],
   "source": [
    "\n",
    "# 숙소별로 리뷰 텍스트 묶기\n",
    "grouped = df.groupby('name')['review_content'].apply(lambda texts: ' '.join(texts)).reset_index()\n",
    "\n",
    "# TextRank 요약 적용\n",
    "def summarize_reviews(text, ratio=0.2):\n",
    "    try:\n",
    "        return summarize(text, ratio=ratio)\n",
    "    except:\n",
    "        return text[:200]  # 에러 시 일부만 대체\n",
    "\n",
    "grouped['요약'] = grouped['review_content'].apply(summarize_reviews)\n",
    "\n",
    "# 결과 저장\n",
    "grouped.to_csv(\"숙소별_요약_텍스트.csv\", index=False, encoding=\"utf-8-sig\")\n",
    "grouped.head()\n"
   ]
  }
 ],
 "metadata": {
  "language_info": {
   "name": "python"
  }
 },
 "nbformat": 4,
 "nbformat_minor": 5
}
