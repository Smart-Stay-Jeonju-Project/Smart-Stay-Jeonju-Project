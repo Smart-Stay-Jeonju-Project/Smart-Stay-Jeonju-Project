{
 "cells": [
  {
   "cell_type": "markdown",
   "id": "b297ffa6",
   "metadata": {},
   "source": [
    "# ⚖️ 감성 분석 모델 비교 실습 (Logistic vs SVM)"
   ]
  },
  {
   "cell_type": "code",
   "execution_count": null,
   "id": "c61f74b8",
   "metadata": {},
   "outputs": [],
   "source": [
    "\n",
    "# 필요시 설치\n",
    "# !pip install pandas scikit-learn\n"
   ]
  },
  {
   "cell_type": "code",
   "execution_count": null,
   "id": "bc534d72",
   "metadata": {},
   "outputs": [],
   "source": [
    "\n",
    "import pandas as pd\n",
    "\n",
    "df = pd.read_csv(\"36000_reviews_label.csv\")\n",
    "df = df[['sentence', 'label']].dropna()\n",
    "df = df[df['label'].isin(['긍정', '부정', '중립'])]\n"
   ]
  },
  {
   "cell_type": "code",
   "execution_count": 3,
   "id": "865f81ab",
   "metadata": {},
   "outputs": [],
   "source": [
    "\n",
    "from sklearn.model_selection import train_test_split\n",
    "\n",
    "X_train, X_test, y_train, y_test = train_test_split(\n",
    "    df['sentence'], df['label'], test_size=0.2, random_state=42\n",
    ")\n"
   ]
  },
  {
   "cell_type": "code",
   "execution_count": 4,
   "id": "208212a7",
   "metadata": {},
   "outputs": [],
   "source": [
    "\n",
    "from sklearn.feature_extraction.text import TfidfVectorizer\n",
    "\n",
    "vectorizer = TfidfVectorizer(max_features=5000, ngram_range=(1,2), min_df=5)\n",
    "X_train_vec = vectorizer.fit_transform(X_train)\n",
    "X_test_vec = vectorizer.transform(X_test)\n"
   ]
  },
  {
   "cell_type": "code",
   "execution_count": 5,
   "id": "1f7b96a2",
   "metadata": {},
   "outputs": [
    {
     "name": "stdout",
     "output_type": "stream",
     "text": [
      "📌 Logistic Regression 결과:\n",
      "              precision    recall  f1-score   support\n",
      "\n",
      "          긍정      0.921     0.975     0.947      5604\n",
      "          모호      0.624     0.532     0.574      1107\n",
      "          부정      0.775     0.579     0.663       649\n",
      "\n",
      "    accuracy                          0.873      7360\n",
      "   macro avg      0.773     0.695     0.728      7360\n",
      "weighted avg      0.864     0.873     0.866      7360\n",
      "\n"
     ]
    }
   ],
   "source": [
    "\n",
    "from sklearn.linear_model import LogisticRegression\n",
    "from sklearn.metrics import classification_report\n",
    "\n",
    "logi = LogisticRegression(max_iter=1000)\n",
    "logi.fit(X_train_vec, y_train)\n",
    "logi_pred = logi.predict(X_test_vec)\n",
    "\n",
    "print(\"📌 Logistic Regression 결과:\")\n",
    "print(classification_report(y_test, logi_pred, digits=3))\n"
   ]
  },
  {
   "cell_type": "code",
   "execution_count": 6,
   "id": "550d0584",
   "metadata": {},
   "outputs": [
    {
     "name": "stdout",
     "output_type": "stream",
     "text": [
      "📌 SVM 결과:\n",
      "              precision    recall  f1-score   support\n",
      "\n",
      "          긍정      0.933     0.964     0.948      5604\n",
      "          모호      0.619     0.537     0.575      1107\n",
      "          부정      0.710     0.670     0.689       649\n",
      "\n",
      "    accuracy                          0.874      7360\n",
      "   macro avg      0.754     0.724     0.738      7360\n",
      "weighted avg      0.866     0.874     0.869      7360\n",
      "\n"
     ]
    }
   ],
   "source": [
    "\n",
    "from sklearn.svm import LinearSVC\n",
    "\n",
    "svm = LinearSVC()\n",
    "svm.fit(X_train_vec, y_train)\n",
    "svm_pred = svm.predict(X_test_vec)\n",
    "\n",
    "print(\"📌 SVM 결과:\")\n",
    "print(classification_report(y_test, svm_pred, digits=3))\n"
   ]
  }
 ],
 "metadata": {
  "kernelspec": {
   "display_name": "azen",
   "language": "python",
   "name": "python3"
  },
  "language_info": {
   "codemirror_mode": {
    "name": "ipython",
    "version": 3
   },
   "file_extension": ".py",
   "mimetype": "text/x-python",
   "name": "python",
   "nbconvert_exporter": "python",
   "pygments_lexer": "ipython3",
   "version": "3.10.18"
  }
 },
 "nbformat": 4,
 "nbformat_minor": 5
}
