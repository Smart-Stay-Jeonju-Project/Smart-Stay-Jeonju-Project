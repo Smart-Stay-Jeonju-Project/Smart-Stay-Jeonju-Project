{
 "cells": [
  {
   "cell_type": "markdown",
   "id": "ddb24434",
   "metadata": {},
   "source": [
    "# 🗺️ 지역별 / 유형별 감성 점수 분포 분석"
   ]
  },
  {
   "cell_type": "code",
   "execution_count": null,
   "id": "3d18dd1e",
   "metadata": {},
   "outputs": [],
   "source": [
    "\n",
    "# !pip install pandas matplotlib seaborn\n"
   ]
  },
  {
   "cell_type": "code",
   "execution_count": null,
   "id": "2203d655",
   "metadata": {},
   "outputs": [],
   "source": [
    "\n",
    "import pandas as pd\n",
    "\n",
    "df = pd.read_csv(\"숙소_리뷰_감성_분석_결과.csv\")\n",
    "\n",
    "# 필요한 컬럼 추출\n",
    "df = df[['name', 'review_content', 'smart_reclassified']]\n",
    "df = df.rename(columns={'name': '숙소명', 'review_content': '리뷰', 'smart_reclassified': '감성'})\n",
    "\n",
    "# 숙소 유형 추출 함수 (예: 게스트하우스, 호텔 등)\n",
    "def classify_type(name):\n",
    "    if '한옥' in name or '게스트' in name or '게하' in name:\n",
    "        return '게스트하우스/한옥'\n",
    "    elif '호텔' in name or '모텔' in name:\n",
    "        return '호텔/모텔'\n",
    "    elif '펜션' in name or '풀빌라' in name:\n",
    "        return '펜션/기타'\n",
    "    else:\n",
    "        return '기타'\n",
    "\n",
    "df['숙소유형'] = df['숙소명'].apply(classify_type)\n",
    "df.head()\n"
   ]
  },
  {
   "cell_type": "code",
   "execution_count": null,
   "id": "18acc68b",
   "metadata": {},
   "outputs": [],
   "source": [
    "\n",
    "# 감성 → 점수 변환 (긍정=1, 중립=0.5, 부정=0)\n",
    "def sentiment_score(sent):\n",
    "    if sent == '긍정': return 1\n",
    "    elif sent == '중립': return 0.5\n",
    "    else: return 0\n",
    "\n",
    "df['감성점수'] = df['감성'].apply(sentiment_score)\n"
   ]
  },
  {
   "cell_type": "code",
   "execution_count": null,
   "id": "176136c3",
   "metadata": {},
   "outputs": [],
   "source": [
    "\n",
    "import matplotlib.pyplot as plt\n",
    "import seaborn as sns\n",
    "\n",
    "plt.figure(figsize=(8,5))\n",
    "sns.barplot(data=df, x='숙소유형', y='감성점수', ci=None, estimator='mean')\n",
    "plt.title(\"숙소 유형별 평균 감성 점수\")\n",
    "plt.ylabel(\"평균 감성 점수 (0~1)\")\n",
    "plt.xlabel(\"숙소 유형\")\n",
    "plt.ylim(0, 1)\n",
    "plt.tight_layout()\n",
    "plt.show()\n"
   ]
  }
 ],
 "metadata": {},
 "nbformat": 4,
 "nbformat_minor": 5
}
