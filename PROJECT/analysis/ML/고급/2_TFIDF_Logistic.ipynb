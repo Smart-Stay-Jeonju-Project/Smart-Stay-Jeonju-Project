{
 "cells": [
  {
   "cell_type": "markdown",
   "id": "749bfb2e",
   "metadata": {},
   "source": [
    "# 🧠 감성 분석 모델 고도화 실습 (TF-IDF + Logistic Regression)"
   ]
  },
  {
   "cell_type": "code",
   "execution_count": null,
   "id": "97f07fba",
   "metadata": {},
   "outputs": [],
   "source": [
    "\n",
    "# 설치가 안 되어 있다면 아래 명령을 먼저 실행하세요\n",
    "# !pip install pandas scikit-learn\n"
   ]
  },
  {
   "cell_type": "code",
   "execution_count": 2,
   "id": "3ade67e7",
   "metadata": {},
   "outputs": [
    {
     "data": {
      "text/html": [
       "<div>\n",
       "<style scoped>\n",
       "    .dataframe tbody tr th:only-of-type {\n",
       "        vertical-align: middle;\n",
       "    }\n",
       "\n",
       "    .dataframe tbody tr th {\n",
       "        vertical-align: top;\n",
       "    }\n",
       "\n",
       "    .dataframe thead th {\n",
       "        text-align: right;\n",
       "    }\n",
       "</style>\n",
       "<table border=\"1\" class=\"dataframe\">\n",
       "  <thead>\n",
       "    <tr style=\"text-align: right;\">\n",
       "      <th></th>\n",
       "      <th>sentence</th>\n",
       "      <th>label</th>\n",
       "    </tr>\n",
       "  </thead>\n",
       "  <tbody>\n",
       "    <tr>\n",
       "      <th>0</th>\n",
       "      <td>따뜻하고 좋아요 특히 사장님이 너무 친절해요</td>\n",
       "      <td>긍정</td>\n",
       "    </tr>\n",
       "    <tr>\n",
       "      <th>1</th>\n",
       "      <td>시설 좋은 곳 사용하려면 무조건 여기로 오는 것 같아요 무한 대실도 다음에 이용 예...</td>\n",
       "      <td>긍정</td>\n",
       "    </tr>\n",
       "    <tr>\n",
       "      <th>2</th>\n",
       "      <td>아주 만족합니다 시설 인테리어 아주 좋아요</td>\n",
       "      <td>긍정</td>\n",
       "    </tr>\n",
       "    <tr>\n",
       "      <th>3</th>\n",
       "      <td>진짜로 좋아요 아주 자주 이용하고 어 오</td>\n",
       "      <td>긍정</td>\n",
       "    </tr>\n",
       "    <tr>\n",
       "      <th>4</th>\n",
       "      <td>숙소가 깔끔하고 사장님도 친절하고 좋았어요 잘 쉬다 갑니다</td>\n",
       "      <td>긍정</td>\n",
       "    </tr>\n",
       "  </tbody>\n",
       "</table>\n",
       "</div>"
      ],
      "text/plain": [
       "                                            sentence label\n",
       "0                           따뜻하고 좋아요 특히 사장님이 너무 친절해요    긍정\n",
       "1  시설 좋은 곳 사용하려면 무조건 여기로 오는 것 같아요 무한 대실도 다음에 이용 예...    긍정\n",
       "2                            아주 만족합니다 시설 인테리어 아주 좋아요    긍정\n",
       "3                             진짜로 좋아요 아주 자주 이용하고 어 오    긍정\n",
       "4                   숙소가 깔끔하고 사장님도 친절하고 좋았어요 잘 쉬다 갑니다    긍정"
      ]
     },
     "execution_count": 2,
     "metadata": {},
     "output_type": "execute_result"
    }
   ],
   "source": [
    "\n",
    "import pandas as pd\n",
    "\n",
    "# 감성 분석 결과 CSV 로드 (파일명은 수정 가능)\n",
    "df = pd.read_csv(\"36000_reviews_label.csv\")\n",
    "\n",
    "# 필요 컬럼만 추출\n",
    "df = df[['sentence', 'label']].dropna()\n",
    "df = df[df['label'].isin(['긍정', '부정', '모호'])]\n",
    "df.head()\n"
   ]
  },
  {
   "cell_type": "code",
   "execution_count": 3,
   "id": "1b0111f6",
   "metadata": {},
   "outputs": [],
   "source": [
    "\n",
    "from sklearn.model_selection import train_test_split\n",
    "\n",
    "X_train, X_test, y_train, y_test = train_test_split(\n",
    "    df['sentence'], df['label'], test_size=0.2, random_state=42\n",
    ")\n"
   ]
  },
  {
   "cell_type": "code",
   "execution_count": 4,
   "id": "df854acc",
   "metadata": {},
   "outputs": [
    {
     "name": "stdout",
     "output_type": "stream",
     "text": [
      "실제 벡터 수: 5000\n"
     ]
    }
   ],
   "source": [
    "\n",
    "from sklearn.feature_extraction.text import TfidfVectorizer\n",
    "\n",
    "vectorizer = TfidfVectorizer(max_features=5000, ngram_range=(1,2), min_df=5)\n",
    "X_train_vec = vectorizer.fit_transform(X_train)\n",
    "X_test_vec = vectorizer.transform(X_test)\n",
    "\n",
    "# 추출된 단어 수 확인\n",
    "print(\"실제 벡터 수:\", len(vectorizer.get_feature_names_out()))\n"
   ]
  },
  {
   "cell_type": "code",
   "execution_count": 5,
   "id": "ace265f8",
   "metadata": {},
   "outputs": [],
   "source": [
    "\n",
    "from sklearn.linear_model import LogisticRegression\n",
    "\n",
    "clf = LogisticRegression(max_iter=1000)\n",
    "clf.fit(X_train_vec, y_train)\n",
    "\n",
    "y_pred = clf.predict(X_test_vec)\n"
   ]
  },
  {
   "cell_type": "code",
   "execution_count": 6,
   "id": "1e945499",
   "metadata": {},
   "outputs": [
    {
     "name": "stdout",
     "output_type": "stream",
     "text": [
      "정확도: 0.8733695652173913\n",
      "\n",
      "분류 리포트:\n",
      "              precision    recall  f1-score   support\n",
      "\n",
      "          긍정      0.921     0.975     0.947      5604\n",
      "          모호      0.624     0.532     0.574      1107\n",
      "          부정      0.775     0.579     0.663       649\n",
      "\n",
      "    accuracy                          0.873      7360\n",
      "   macro avg      0.773     0.695     0.728      7360\n",
      "weighted avg      0.864     0.873     0.866      7360\n",
      "\n"
     ]
    }
   ],
   "source": [
    "\n",
    "from sklearn.metrics import classification_report, accuracy_score\n",
    "\n",
    "print(\"정확도:\", accuracy_score(y_test, y_pred))\n",
    "print(\"\\n분류 리포트:\")\n",
    "print(classification_report(y_test, y_pred, digits=3))\n"
   ]
  },
  {
   "cell_type": "code",
   "execution_count": 7,
   "id": "186a55a0",
   "metadata": {},
   "outputs": [
    {
     "name": "stdout",
     "output_type": "stream",
     "text": [
      "좋아요: 0.0430\n",
      "너무: 0.0295\n",
      "깨끗하고: 0.0252\n",
      "갑니다: 0.0238\n",
      "깔끔하고: 0.0217\n",
      "좋았어요: 0.0187\n",
      "좋았습니다: 0.0174\n",
      "좋습니다: 0.0170\n",
      "쉬다: 0.0162\n",
      "있어서: 0.0138\n",
      "쉬다 갑니다: 0.0133\n",
      "항상: 0.0130\n",
      "정말: 0.0128\n",
      "좋고: 0.0126\n",
      "친절하시고: 0.0117\n",
      "좋은: 0.0114\n",
      "전주: 0.0113\n",
      "자주: 0.0112\n",
      "같아요: 0.0100\n",
      "가성비: 0.0099\n",
      "아주: 0.0095\n",
      "시설도: 0.0091\n",
      "편하게: 0.0090\n",
      "시설: 0.0090\n",
      "좋네요: 0.0090\n",
      "다음에: 0.0083\n",
      "넓고: 0.0082\n",
      "방도: 0.0079\n",
      "있고: 0.0079\n",
      "가격: 0.0078\n"
     ]
    }
   ],
   "source": [
    "\n",
    "# 중요 단어 보기 (옵션)\n",
    "features = vectorizer.get_feature_names_out()\n",
    "import numpy as np\n",
    "\n",
    "mean_tfidf = X_train_vec.mean(axis=0).A1\n",
    "word_score_pairs = list(zip(features, mean_tfidf))\n",
    "top_words = sorted(word_score_pairs, key=lambda x: x[1], reverse=True)[:30]\n",
    "\n",
    "for word, score in top_words:\n",
    "    print(f\"{word}: {score:.4f}\")\n"
   ]
  }
 ],
 "metadata": {
  "kernelspec": {
   "display_name": "azen",
   "language": "python",
   "name": "python3"
  },
  "language_info": {
   "codemirror_mode": {
    "name": "ipython",
    "version": 3
   },
   "file_extension": ".py",
   "mimetype": "text/x-python",
   "name": "python",
   "nbconvert_exporter": "python",
   "pygments_lexer": "ipython3",
   "version": "3.10.18"
  }
 },
 "nbformat": 4,
 "nbformat_minor": 5
}
