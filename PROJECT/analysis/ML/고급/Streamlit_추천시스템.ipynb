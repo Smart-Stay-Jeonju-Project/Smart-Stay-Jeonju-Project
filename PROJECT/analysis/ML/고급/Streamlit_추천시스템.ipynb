{
 "cells": [
  {
   "cell_type": "markdown",
   "id": "40d74919",
   "metadata": {},
   "source": [
    "# 📊 감성 분석 + 숙소 추천 대시보드 (Streamlit)"
   ]
  },
  {
   "cell_type": "code",
   "execution_count": null,
   "id": "0fd595f3",
   "metadata": {},
   "outputs": [],
   "source": [
    "\n",
    "# Streamlit 설치\n",
    "# !pip install streamlit pandas sentence-transformers scikit-learn\n"
   ]
  },
  {
   "cell_type": "code",
   "execution_count": null,
   "id": "d8314583",
   "metadata": {},
   "outputs": [],
   "source": [
    "\n",
    "import streamlit as st\n",
    "import pandas as pd\n",
    "from sentence_transformers import SentenceTransformer\n",
    "from sklearn.metrics.pairwise import cosine_similarity\n",
    "\n",
    "# 1. 데이터 불러오기\n",
    "@st.cache_data\n",
    "def load_data():\n",
    "    df = pd.read_csv(\"숙소_리뷰_감성_분석_결과.csv\")\n",
    "    df = df[['name', 'review_content', 'sentiment_tfidf']].dropna()\n",
    "    df = df[df['sentiment_tfidf'].isin(['긍정', '부정', '중립'])].reset_index(drop=True)\n",
    "    return df.head(500)\n",
    "\n",
    "df = load_data()\n",
    "st.title(\"📍 전주 숙소 리뷰 감성 분석 대시보드\")\n",
    "\n",
    "# 2. 질문 입력\n",
    "st.subheader(\"🔎 원하는 숙소를 자연어로 검색해보세요\")\n",
    "query = st.text_input(\"예: 청결하고 조용한 곳 알려줘\", \"\")\n",
    "\n",
    "# 3. 리뷰 임베딩\n",
    "model = SentenceTransformer('sentence-transformers/distiluse-base-multilingual-cased-v1')\n",
    "review_embeddings = model.encode(df['review_content'], convert_to_tensor=True)\n",
    "\n",
    "if query:\n",
    "    query_embedding = model.encode([query])\n",
    "    sim_scores = cosine_similarity(query_embedding, review_embeddings)[0]\n",
    "    df['유사도'] = sim_scores\n",
    "    top_results = df.sort_values(by='유사도', ascending=False).head(5)\n",
    "\n",
    "    st.subheader(\"🏨 유사한 숙소 리뷰 추천\")\n",
    "    for i, row in top_results.iterrows():\n",
    "        st.markdown(f\"**숙소명**: {row['name']}  \n",
    "**리뷰**: {row['review_content']}  \n",
    "**감성**: {row['sentiment_tfidf']}  \n",
    "**유사도**: {row['유사도']:.3f}\")\n",
    "        st.markdown(\"---\")\n"
   ]
  }
 ],
 "metadata": {},
 "nbformat": 4,
 "nbformat_minor": 5
}
