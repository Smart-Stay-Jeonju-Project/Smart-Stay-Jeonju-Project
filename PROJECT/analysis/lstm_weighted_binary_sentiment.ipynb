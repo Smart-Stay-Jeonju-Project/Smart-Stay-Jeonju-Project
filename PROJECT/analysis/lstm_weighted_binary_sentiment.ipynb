{
 "cells": [
  {
   "cell_type": "code",
   "execution_count": null,
   "id": "8e4eff7a",
   "metadata": {},
   "outputs": [],
   "source": [
    "# ✅ 설치 필요시\n",
    "# !pip install konlpy torch sklearn"
   ]
  },
  {
   "cell_type": "code",
   "execution_count": null,
   "id": "6c41abdc",
   "metadata": {},
   "outputs": [],
   "source": [
    "import pandas as pd\n",
    "import torch\n",
    "import torch.nn as nn\n",
    "from torch.utils.data import Dataset, DataLoader\n",
    "from sklearn.model_selection import train_test_split\n",
    "from sklearn.utils.class_weight import compute_class_weight\n",
    "from sklearn.metrics import classification_report\n",
    "from tqdm import tqdm\n",
    "from konlpy.tag import Okt\n",
    "from collections import Counter"
   ]
  },
  {
   "cell_type": "code",
   "execution_count": null,
   "id": "f8259651",
   "metadata": {},
   "outputs": [],
   "source": [
    "# 데이터 로드 및 라벨링 (이진 분류용)\n",
    "df = pd.read_csv(\"lstm_reviews_dataset.csv\")\n",
    "df['rating'] = pd.to_numeric(df['rating'], errors='coerce')\n",
    "df['label'] = df['rating'].apply(lambda r: 0 if r <= 2 else 1 if r >= 4 else -1)\n",
    "df = df[df['label'] != -1]\n",
    "df = df.dropna()"
   ]
  },
  {
   "cell_type": "code",
   "execution_count": null,
   "id": "e887f3b5",
   "metadata": {},
   "outputs": [],
   "source": [
    "# 토큰화\n",
    "tokenizer = Okt()\n",
    "df['tokens'] = df['review_content'].apply(lambda x: tokenizer.morphs(str(x)))"
   ]
  },
  {
   "cell_type": "code",
   "execution_count": null,
   "id": "900446e7",
   "metadata": {},
   "outputs": [],
   "source": [
    "# 단어 사전\n",
    "all_tokens = sum(df['tokens'].tolist(), [])\n",
    "vocab_counter = Counter(all_tokens)\n",
    "vocab = {word: idx + 2 for idx, (word, _) in enumerate(vocab_counter.items())}\n",
    "vocab['<PAD>'] = 0\n",
    "vocab['<UNK>'] = 1"
   ]
  },
  {
   "cell_type": "code",
   "execution_count": null,
   "id": "673a0d34",
   "metadata": {},
   "outputs": [],
   "source": [
    "# 패딩\n",
    "max_len = 50\n",
    "def encode(tokens):\n",
    "    ids = [vocab.get(token, 1) for token in tokens]\n",
    "    return ids[:max_len] + [0] * (max_len - len(ids))\n",
    "df['input_ids'] = df['tokens'].apply(encode)"
   ]
  },
  {
   "cell_type": "code",
   "execution_count": null,
   "id": "e55d5c22",
   "metadata": {},
   "outputs": [],
   "source": [
    "# Dataset\n",
    "class ReviewDataset(Dataset):\n",
    "    def __init__(self, input_ids, labels):\n",
    "        self.x = torch.tensor(input_ids, dtype=torch.long)\n",
    "        self.y = torch.tensor(labels, dtype=torch.long)\n",
    "\n",
    "    def __len__(self):\n",
    "        return len(self.x)\n",
    "\n",
    "    def __getitem__(self, idx):\n",
    "        return self.x[idx], self.y[idx]"
   ]
  },
  {
   "cell_type": "code",
   "execution_count": null,
   "id": "d108337b",
   "metadata": {},
   "outputs": [],
   "source": [
    "train_x, test_x, train_y, test_y = train_test_split(\n",
    "    df['input_ids'].tolist(),\n",
    "    df['label'].tolist(),\n",
    "    test_size=0.2,\n",
    "    random_state=42\n",
    ")"
   ]
  },
  {
   "cell_type": "code",
   "execution_count": null,
   "id": "140089ae",
   "metadata": {},
   "outputs": [],
   "source": [
    "train_dataset = ReviewDataset(train_x, train_y)\n",
    "test_dataset = ReviewDataset(test_x, test_y)\n",
    "\n",
    "train_loader = DataLoader(train_dataset, batch_size=64, shuffle=True)\n",
    "test_loader = DataLoader(test_dataset, batch_size=64)"
   ]
  },
  {
   "cell_type": "code",
   "execution_count": null,
   "id": "0f6ce8f9",
   "metadata": {},
   "outputs": [],
   "source": [
    "# LSTM 모델\n",
    "class LSTMClassifier(nn.Module):\n",
    "    def __init__(self, vocab_size, embed_dim, hidden_dim, output_dim):\n",
    "        super().__init__()\n",
    "        self.embedding = nn.Embedding(vocab_size, embed_dim, padding_idx=0)\n",
    "        self.lstm = nn.LSTM(embed_dim, hidden_dim, batch_first=True)\n",
    "        self.fc = nn.Linear(hidden_dim, output_dim)\n",
    "\n",
    "    def forward(self, x):\n",
    "        embedded = self.embedding(x)\n",
    "        _, (hidden, _) = self.lstm(embedded)\n",
    "        output = self.fc(hidden[-1])\n",
    "        return output"
   ]
  },
  {
   "cell_type": "code",
   "execution_count": null,
   "id": "4f5cc08c",
   "metadata": {},
   "outputs": [],
   "source": [
    "# 클래스 가중치 계산\n",
    "import numpy as np\n",
    "class_weights = compute_class_weight('balanced', classes=np.unique(train_y), y=train_y)\n",
    "weights_tensor = torch.tensor(class_weights, dtype=torch.float)\n",
    "\n",
    "device = torch.device(\"cuda\" if torch.cuda.is_available() else \"cpu\")\n",
    "model = LSTMClassifier(len(vocab), embed_dim=100, hidden_dim=128, output_dim=2).to(device)\n",
    "weights_tensor = weights_tensor.to(device)\n",
    "\n",
    "optimizer = torch.optim.Adam(model.parameters(), lr=1e-3)\n",
    "criterion = nn.CrossEntropyLoss(weight=weights_tensor)"
   ]
  },
  {
   "cell_type": "code",
   "execution_count": null,
   "id": "f488ec24",
   "metadata": {},
   "outputs": [],
   "source": [
    "# 학습\n",
    "for epoch in range(3):\n",
    "    model.train()\n",
    "    total_loss = 0\n",
    "    for x_batch, y_batch in tqdm(train_loader):\n",
    "        x_batch, y_batch = x_batch.to(device), y_batch.to(device)\n",
    "        optimizer.zero_grad()\n",
    "        outputs = model(x_batch)\n",
    "        loss = criterion(outputs, y_batch)\n",
    "        loss.backward()\n",
    "        optimizer.step()\n",
    "        total_loss += loss.item()\n",
    "    print(f\"Epoch {epoch+1}, Loss: {total_loss:.4f}\")"
   ]
  },
  {
   "cell_type": "code",
   "execution_count": null,
   "id": "9c985f89",
   "metadata": {},
   "outputs": [],
   "source": [
    "# 평가\n",
    "model.eval()\n",
    "all_preds, all_labels = [], []\n",
    "with torch.no_grad():\n",
    "    for x_batch, y_batch in test_loader:\n",
    "        x_batch = x_batch.to(device)\n",
    "        outputs = model(x_batch)\n",
    "        preds = torch.argmax(outputs, dim=1).cpu().numpy()\n",
    "        all_preds.extend(preds)\n",
    "        all_labels.extend(y_batch.numpy())"
   ]
  },
  {
   "cell_type": "code",
   "execution_count": null,
   "id": "f72f50e1",
   "metadata": {},
   "outputs": [],
   "source": [
    "print(classification_report(all_labels, all_preds, target_names=[\"부정\", \"긍정\"]))\n"
   ]
  }
 ],
 "metadata": {
  "kernelspec": {
   "display_name": "azen",
   "language": "python",
   "name": "python3"
  },
  "language_info": {
   "name": "python",
   "version": "3.10.18"
  }
 },
 "nbformat": 4,
 "nbformat_minor": 5
}
