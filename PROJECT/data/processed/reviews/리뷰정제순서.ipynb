{
 "cells": [
  {
   "cell_type": "markdown",
   "id": "0086b124",
   "metadata": {},
   "source": [
    "1. ai_cleaned_reviews.py 를 통해 y/n_only_texts.csv의 데이터를 \"타입, 정제한내용\" 형태로 감성분석\n",
    "    + 해당 파일 이름이 y/n/ai_cleaned_reviews.csv\n",
    "\n",
    "2. duplicate_upgrade.py 를 통해 y/n_only_texts, y/n_ai_cleaned_reviews, y/n_duple_reviews 세 파일을 중복제거 후 병합\n",
    "    + 해당 파일 이름이 y/n_duple_filtered.up.csv\n",
    "\n",
    "3. ori_y/n_ai_cleaned_reviews.csv 는 \"ERROR\" 포함되어 있는것\n",
    "    + 여기어때는 데이터가 유실되어서 수작업으로 처리\n",
    "    + 야놀자는 n_duple_reviews.csv에 \"\" 로 저장된 것 찾아서 지우고 추가 \"ERROR\" 40개는 다시 정제작업 진행 후 완료"
   ]
  }
 ],
 "metadata": {
  "language_info": {
   "name": "python"
  }
 },
 "nbformat": 4,
 "nbformat_minor": 5
}
