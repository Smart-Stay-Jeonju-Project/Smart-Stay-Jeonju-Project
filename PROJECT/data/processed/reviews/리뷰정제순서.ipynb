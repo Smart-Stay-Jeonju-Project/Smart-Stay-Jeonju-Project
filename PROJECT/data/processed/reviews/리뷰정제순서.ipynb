{
 "cells": [
  {
   "cell_type": "markdown",
   "id": "0086b124",
   "metadata": {},
   "source": [
    "1. ai_cleaned_reviews.py 를 사용해 리뷰 데이터들 정제\n",
    "2. \"ERROR\"가 포함되어 있는 데이터들을 위해 따로 백업 (본인은 error_~~ 로 지정)\n",
    "3. 여기어때 데이터들은 \"ERROR\" 반환이 아닌 데이터 유실 => 이유는 모르겠음\n",
    "4. 야놀자는 \"\" 때문에 \"ERROR\" 반환, 그런데 \"\"은 4242개 \"ERROR\" 는 4282개로 개수 불일치\n",
    "5.  "
   ]
  }
 ],
 "metadata": {
  "language_info": {
   "name": "python"
  }
 },
 "nbformat": 4,
 "nbformat_minor": 5
}
