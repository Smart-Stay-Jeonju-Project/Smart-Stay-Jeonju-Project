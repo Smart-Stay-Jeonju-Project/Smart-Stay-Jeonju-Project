{
 "cells": [
  {
   "cell_type": "markdown",
   "id": "f056f750",
   "metadata": {},
   "source": [
    "### 플라스크 서버 만들기"
   ]
  },
  {
   "cell_type": "markdown",
   "id": "f429fabc",
   "metadata": {},
   "source": [
    "### DB에 연결하기"
   ]
  },
  {
   "cell_type": "markdown",
   "id": "e864f43b",
   "metadata": {},
   "source": [
    "### 프론트와 연결하기"
   ]
  },
  {
   "cell_type": "markdown",
   "id": "ed01f182",
   "metadata": {},
   "source": [
    "### 공통 상단 구역\n",
    "+ layout.html\n",
    "+ 로고 : 임의의 이미지 \n",
    "+ 검색 메뉴 (상호명, 키워드, 자연어문장) : 홈페이지에서 찾아보자\n",
    "+ 검색바 : 수업한 것에서 \n",
    "+ 검색 버튼 + 엔터로도 : 수업한 것에서\n",
    "+ 맨 위로 버튼 : 수업한 것에서"
   ]
  },
  {
   "cell_type": "markdown",
   "id": "5c8b53bb",
   "metadata": {},
   "source": [
    "### 메인 페이지\n",
    "+ 상단 (공통) : layout에서 만들어 놓은 규격 extends로 불러오기\n",
    "+ 중단 / 하단 :\n",
    "    1. 추천 숙소 - 몇개 정해서 이미지 + 링크 배치 잘 해서 정하기\n",
    "    2. 지역별 분포 - 지도 형태, api\n",
    "    3. 숙소 형태 분류별 리스트 - 잘 모르겠음"
   ]
  },
  {
   "cell_type": "markdown",
   "id": "099b7ea6",
   "metadata": {},
   "source": [
    "### 검색결과 페이지\n",
    "+ 상단 (공통)\n",
    "+ 중단 : \n",
    "    1. 이미지 : DB에서 가져옴\n",
    "    2. 상호명 : DB에서 가져옴\n",
    "    3. 주소 : DB에서 가져옴\n",
    "+ 하단 : 별점, 긍/부정, 키워드"
   ]
  },
  {
   "cell_type": "markdown",
   "id": "dd5fd5f0",
   "metadata": {},
   "source": [
    "### 상세 페이지\n",
    "+ 상단 (공통)\n",
    "+ 중단 : 이미지, 상호명, 주소\n",
    "+ 하단 : 사용자와 ai를 비교하는 별점 / 리뷰, 키워드 관련 시각화 그래프"
   ]
  }
 ],
 "metadata": {
  "language_info": {
   "name": "python"
  }
 },
 "nbformat": 4,
 "nbformat_minor": 5
}
